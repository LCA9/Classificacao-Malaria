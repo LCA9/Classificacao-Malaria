{
  "nbformat": 4,
  "nbformat_minor": 0,
  "metadata": {
    "colab": {
      "provenance": [],
      "machine_shape": "hm",
      "gpuType": "V100"
    },
    "kernelspec": {
      "name": "python3",
      "display_name": "Python 3"
    },
    "language_info": {
      "name": "python"
    },
    "accelerator": "GPU",
    "widgets": {
      "application/vnd.jupyter.widget-state+json": {
        "66884a15c63742f480a70431da658870": {
          "model_module": "@jupyter-widgets/controls",
          "model_name": "HBoxModel",
          "model_module_version": "1.5.0",
          "state": {
            "_dom_classes": [],
            "_model_module": "@jupyter-widgets/controls",
            "_model_module_version": "1.5.0",
            "_model_name": "HBoxModel",
            "_view_count": null,
            "_view_module": "@jupyter-widgets/controls",
            "_view_module_version": "1.5.0",
            "_view_name": "HBoxView",
            "box_style": "",
            "children": [
              "IPY_MODEL_15ee5d7e5c064806aa4a31e6d5e35753",
              "IPY_MODEL_5626e9f27e9c4c499cd62f3acd2abd17",
              "IPY_MODEL_261386dd4df84b34a555f0051a5e789d"
            ],
            "layout": "IPY_MODEL_2b87ea9d77f64ab9af814c54bfcfa488"
          }
        },
        "15ee5d7e5c064806aa4a31e6d5e35753": {
          "model_module": "@jupyter-widgets/controls",
          "model_name": "HTMLModel",
          "model_module_version": "1.5.0",
          "state": {
            "_dom_classes": [],
            "_model_module": "@jupyter-widgets/controls",
            "_model_module_version": "1.5.0",
            "_model_name": "HTMLModel",
            "_view_count": null,
            "_view_module": "@jupyter-widgets/controls",
            "_view_module_version": "1.5.0",
            "_view_name": "HTMLView",
            "description": "",
            "description_tooltip": null,
            "layout": "IPY_MODEL_3898fef1030d48eca22d7299eadd1cb6",
            "placeholder": "​",
            "style": "IPY_MODEL_120e9ea5e95547babef85376b11b1aad",
            "value": "Dl Completed...: 100%"
          }
        },
        "5626e9f27e9c4c499cd62f3acd2abd17": {
          "model_module": "@jupyter-widgets/controls",
          "model_name": "FloatProgressModel",
          "model_module_version": "1.5.0",
          "state": {
            "_dom_classes": [],
            "_model_module": "@jupyter-widgets/controls",
            "_model_module_version": "1.5.0",
            "_model_name": "FloatProgressModel",
            "_view_count": null,
            "_view_module": "@jupyter-widgets/controls",
            "_view_module_version": "1.5.0",
            "_view_name": "ProgressView",
            "bar_style": "info",
            "description": "",
            "description_tooltip": null,
            "layout": "IPY_MODEL_a80277517b7344cba263fa97bf4499f6",
            "max": 1,
            "min": 0,
            "orientation": "horizontal",
            "style": "IPY_MODEL_56359a991c1f4747826d1c585a580b60",
            "value": 1
          }
        },
        "261386dd4df84b34a555f0051a5e789d": {
          "model_module": "@jupyter-widgets/controls",
          "model_name": "HTMLModel",
          "model_module_version": "1.5.0",
          "state": {
            "_dom_classes": [],
            "_model_module": "@jupyter-widgets/controls",
            "_model_module_version": "1.5.0",
            "_model_name": "HTMLModel",
            "_view_count": null,
            "_view_module": "@jupyter-widgets/controls",
            "_view_module_version": "1.5.0",
            "_view_name": "HTMLView",
            "description": "",
            "description_tooltip": null,
            "layout": "IPY_MODEL_570af79dac314853ade1061067bed3f3",
            "placeholder": "​",
            "style": "IPY_MODEL_f5845163b64f4892b079733f314d62a6",
            "value": " 1/1 [01:02&lt;00:00,  3.46s/ url]"
          }
        },
        "2b87ea9d77f64ab9af814c54bfcfa488": {
          "model_module": "@jupyter-widgets/base",
          "model_name": "LayoutModel",
          "model_module_version": "1.2.0",
          "state": {
            "_model_module": "@jupyter-widgets/base",
            "_model_module_version": "1.2.0",
            "_model_name": "LayoutModel",
            "_view_count": null,
            "_view_module": "@jupyter-widgets/base",
            "_view_module_version": "1.2.0",
            "_view_name": "LayoutView",
            "align_content": null,
            "align_items": null,
            "align_self": null,
            "border": null,
            "bottom": null,
            "display": null,
            "flex": null,
            "flex_flow": null,
            "grid_area": null,
            "grid_auto_columns": null,
            "grid_auto_flow": null,
            "grid_auto_rows": null,
            "grid_column": null,
            "grid_gap": null,
            "grid_row": null,
            "grid_template_areas": null,
            "grid_template_columns": null,
            "grid_template_rows": null,
            "height": null,
            "justify_content": null,
            "justify_items": null,
            "left": null,
            "margin": null,
            "max_height": null,
            "max_width": null,
            "min_height": null,
            "min_width": null,
            "object_fit": null,
            "object_position": null,
            "order": null,
            "overflow": null,
            "overflow_x": null,
            "overflow_y": null,
            "padding": null,
            "right": null,
            "top": null,
            "visibility": null,
            "width": null
          }
        },
        "3898fef1030d48eca22d7299eadd1cb6": {
          "model_module": "@jupyter-widgets/base",
          "model_name": "LayoutModel",
          "model_module_version": "1.2.0",
          "state": {
            "_model_module": "@jupyter-widgets/base",
            "_model_module_version": "1.2.0",
            "_model_name": "LayoutModel",
            "_view_count": null,
            "_view_module": "@jupyter-widgets/base",
            "_view_module_version": "1.2.0",
            "_view_name": "LayoutView",
            "align_content": null,
            "align_items": null,
            "align_self": null,
            "border": null,
            "bottom": null,
            "display": null,
            "flex": null,
            "flex_flow": null,
            "grid_area": null,
            "grid_auto_columns": null,
            "grid_auto_flow": null,
            "grid_auto_rows": null,
            "grid_column": null,
            "grid_gap": null,
            "grid_row": null,
            "grid_template_areas": null,
            "grid_template_columns": null,
            "grid_template_rows": null,
            "height": null,
            "justify_content": null,
            "justify_items": null,
            "left": null,
            "margin": null,
            "max_height": null,
            "max_width": null,
            "min_height": null,
            "min_width": null,
            "object_fit": null,
            "object_position": null,
            "order": null,
            "overflow": null,
            "overflow_x": null,
            "overflow_y": null,
            "padding": null,
            "right": null,
            "top": null,
            "visibility": null,
            "width": null
          }
        },
        "120e9ea5e95547babef85376b11b1aad": {
          "model_module": "@jupyter-widgets/controls",
          "model_name": "DescriptionStyleModel",
          "model_module_version": "1.5.0",
          "state": {
            "_model_module": "@jupyter-widgets/controls",
            "_model_module_version": "1.5.0",
            "_model_name": "DescriptionStyleModel",
            "_view_count": null,
            "_view_module": "@jupyter-widgets/base",
            "_view_module_version": "1.2.0",
            "_view_name": "StyleView",
            "description_width": ""
          }
        },
        "a80277517b7344cba263fa97bf4499f6": {
          "model_module": "@jupyter-widgets/base",
          "model_name": "LayoutModel",
          "model_module_version": "1.2.0",
          "state": {
            "_model_module": "@jupyter-widgets/base",
            "_model_module_version": "1.2.0",
            "_model_name": "LayoutModel",
            "_view_count": null,
            "_view_module": "@jupyter-widgets/base",
            "_view_module_version": "1.2.0",
            "_view_name": "LayoutView",
            "align_content": null,
            "align_items": null,
            "align_self": null,
            "border": null,
            "bottom": null,
            "display": null,
            "flex": null,
            "flex_flow": null,
            "grid_area": null,
            "grid_auto_columns": null,
            "grid_auto_flow": null,
            "grid_auto_rows": null,
            "grid_column": null,
            "grid_gap": null,
            "grid_row": null,
            "grid_template_areas": null,
            "grid_template_columns": null,
            "grid_template_rows": null,
            "height": null,
            "justify_content": null,
            "justify_items": null,
            "left": null,
            "margin": null,
            "max_height": null,
            "max_width": null,
            "min_height": null,
            "min_width": null,
            "object_fit": null,
            "object_position": null,
            "order": null,
            "overflow": null,
            "overflow_x": null,
            "overflow_y": null,
            "padding": null,
            "right": null,
            "top": null,
            "visibility": null,
            "width": "20px"
          }
        },
        "56359a991c1f4747826d1c585a580b60": {
          "model_module": "@jupyter-widgets/controls",
          "model_name": "ProgressStyleModel",
          "model_module_version": "1.5.0",
          "state": {
            "_model_module": "@jupyter-widgets/controls",
            "_model_module_version": "1.5.0",
            "_model_name": "ProgressStyleModel",
            "_view_count": null,
            "_view_module": "@jupyter-widgets/base",
            "_view_module_version": "1.2.0",
            "_view_name": "StyleView",
            "bar_color": null,
            "description_width": ""
          }
        },
        "570af79dac314853ade1061067bed3f3": {
          "model_module": "@jupyter-widgets/base",
          "model_name": "LayoutModel",
          "model_module_version": "1.2.0",
          "state": {
            "_model_module": "@jupyter-widgets/base",
            "_model_module_version": "1.2.0",
            "_model_name": "LayoutModel",
            "_view_count": null,
            "_view_module": "@jupyter-widgets/base",
            "_view_module_version": "1.2.0",
            "_view_name": "LayoutView",
            "align_content": null,
            "align_items": null,
            "align_self": null,
            "border": null,
            "bottom": null,
            "display": null,
            "flex": null,
            "flex_flow": null,
            "grid_area": null,
            "grid_auto_columns": null,
            "grid_auto_flow": null,
            "grid_auto_rows": null,
            "grid_column": null,
            "grid_gap": null,
            "grid_row": null,
            "grid_template_areas": null,
            "grid_template_columns": null,
            "grid_template_rows": null,
            "height": null,
            "justify_content": null,
            "justify_items": null,
            "left": null,
            "margin": null,
            "max_height": null,
            "max_width": null,
            "min_height": null,
            "min_width": null,
            "object_fit": null,
            "object_position": null,
            "order": null,
            "overflow": null,
            "overflow_x": null,
            "overflow_y": null,
            "padding": null,
            "right": null,
            "top": null,
            "visibility": null,
            "width": null
          }
        },
        "f5845163b64f4892b079733f314d62a6": {
          "model_module": "@jupyter-widgets/controls",
          "model_name": "DescriptionStyleModel",
          "model_module_version": "1.5.0",
          "state": {
            "_model_module": "@jupyter-widgets/controls",
            "_model_module_version": "1.5.0",
            "_model_name": "DescriptionStyleModel",
            "_view_count": null,
            "_view_module": "@jupyter-widgets/base",
            "_view_module_version": "1.2.0",
            "_view_name": "StyleView",
            "description_width": ""
          }
        },
        "ceba8e2f8cf74b9d8fa7ef65b6813c40": {
          "model_module": "@jupyter-widgets/controls",
          "model_name": "HBoxModel",
          "model_module_version": "1.5.0",
          "state": {
            "_dom_classes": [],
            "_model_module": "@jupyter-widgets/controls",
            "_model_module_version": "1.5.0",
            "_model_name": "HBoxModel",
            "_view_count": null,
            "_view_module": "@jupyter-widgets/controls",
            "_view_module_version": "1.5.0",
            "_view_name": "HBoxView",
            "box_style": "",
            "children": [
              "IPY_MODEL_3cfdbc8269934f96a86ac1141234bdf0",
              "IPY_MODEL_42c2c3b456ff4c0b82a2660ea49042bc",
              "IPY_MODEL_22acd64edaa54e29a526771a672ddb10"
            ],
            "layout": "IPY_MODEL_3465523ec9dc44a89962e151c1acf67f"
          }
        },
        "3cfdbc8269934f96a86ac1141234bdf0": {
          "model_module": "@jupyter-widgets/controls",
          "model_name": "HTMLModel",
          "model_module_version": "1.5.0",
          "state": {
            "_dom_classes": [],
            "_model_module": "@jupyter-widgets/controls",
            "_model_module_version": "1.5.0",
            "_model_name": "HTMLModel",
            "_view_count": null,
            "_view_module": "@jupyter-widgets/controls",
            "_view_module_version": "1.5.0",
            "_view_name": "HTMLView",
            "description": "",
            "description_tooltip": null,
            "layout": "IPY_MODEL_e2fb0d016d5243af975641b916e6f645",
            "placeholder": "​",
            "style": "IPY_MODEL_e48b284dc1a64aaabff7ce76d8c16f00",
            "value": "Dl Size...: 100%"
          }
        },
        "42c2c3b456ff4c0b82a2660ea49042bc": {
          "model_module": "@jupyter-widgets/controls",
          "model_name": "FloatProgressModel",
          "model_module_version": "1.5.0",
          "state": {
            "_dom_classes": [],
            "_model_module": "@jupyter-widgets/controls",
            "_model_module_version": "1.5.0",
            "_model_name": "FloatProgressModel",
            "_view_count": null,
            "_view_module": "@jupyter-widgets/controls",
            "_view_module_version": "1.5.0",
            "_view_name": "ProgressView",
            "bar_style": "info",
            "description": "",
            "description_tooltip": null,
            "layout": "IPY_MODEL_ea5c1585387a470db54668b369f99751",
            "max": 1,
            "min": 0,
            "orientation": "horizontal",
            "style": "IPY_MODEL_365d0a8b27664e508ba79e5e6b05f14d",
            "value": 1
          }
        },
        "22acd64edaa54e29a526771a672ddb10": {
          "model_module": "@jupyter-widgets/controls",
          "model_name": "HTMLModel",
          "model_module_version": "1.5.0",
          "state": {
            "_dom_classes": [],
            "_model_module": "@jupyter-widgets/controls",
            "_model_module_version": "1.5.0",
            "_model_name": "HTMLModel",
            "_view_count": null,
            "_view_module": "@jupyter-widgets/controls",
            "_view_module_version": "1.5.0",
            "_view_name": "HTMLView",
            "description": "",
            "description_tooltip": null,
            "layout": "IPY_MODEL_6dad65cd5628414dba738fd4e0f89ef9",
            "placeholder": "​",
            "style": "IPY_MODEL_3fa1c3e7de6f4f58a9ef12808778303b",
            "value": " 337/337 [01:02&lt;00:00, 106.29 MiB/s]"
          }
        },
        "3465523ec9dc44a89962e151c1acf67f": {
          "model_module": "@jupyter-widgets/base",
          "model_name": "LayoutModel",
          "model_module_version": "1.2.0",
          "state": {
            "_model_module": "@jupyter-widgets/base",
            "_model_module_version": "1.2.0",
            "_model_name": "LayoutModel",
            "_view_count": null,
            "_view_module": "@jupyter-widgets/base",
            "_view_module_version": "1.2.0",
            "_view_name": "LayoutView",
            "align_content": null,
            "align_items": null,
            "align_self": null,
            "border": null,
            "bottom": null,
            "display": null,
            "flex": null,
            "flex_flow": null,
            "grid_area": null,
            "grid_auto_columns": null,
            "grid_auto_flow": null,
            "grid_auto_rows": null,
            "grid_column": null,
            "grid_gap": null,
            "grid_row": null,
            "grid_template_areas": null,
            "grid_template_columns": null,
            "grid_template_rows": null,
            "height": null,
            "justify_content": null,
            "justify_items": null,
            "left": null,
            "margin": null,
            "max_height": null,
            "max_width": null,
            "min_height": null,
            "min_width": null,
            "object_fit": null,
            "object_position": null,
            "order": null,
            "overflow": null,
            "overflow_x": null,
            "overflow_y": null,
            "padding": null,
            "right": null,
            "top": null,
            "visibility": null,
            "width": null
          }
        },
        "e2fb0d016d5243af975641b916e6f645": {
          "model_module": "@jupyter-widgets/base",
          "model_name": "LayoutModel",
          "model_module_version": "1.2.0",
          "state": {
            "_model_module": "@jupyter-widgets/base",
            "_model_module_version": "1.2.0",
            "_model_name": "LayoutModel",
            "_view_count": null,
            "_view_module": "@jupyter-widgets/base",
            "_view_module_version": "1.2.0",
            "_view_name": "LayoutView",
            "align_content": null,
            "align_items": null,
            "align_self": null,
            "border": null,
            "bottom": null,
            "display": null,
            "flex": null,
            "flex_flow": null,
            "grid_area": null,
            "grid_auto_columns": null,
            "grid_auto_flow": null,
            "grid_auto_rows": null,
            "grid_column": null,
            "grid_gap": null,
            "grid_row": null,
            "grid_template_areas": null,
            "grid_template_columns": null,
            "grid_template_rows": null,
            "height": null,
            "justify_content": null,
            "justify_items": null,
            "left": null,
            "margin": null,
            "max_height": null,
            "max_width": null,
            "min_height": null,
            "min_width": null,
            "object_fit": null,
            "object_position": null,
            "order": null,
            "overflow": null,
            "overflow_x": null,
            "overflow_y": null,
            "padding": null,
            "right": null,
            "top": null,
            "visibility": null,
            "width": null
          }
        },
        "e48b284dc1a64aaabff7ce76d8c16f00": {
          "model_module": "@jupyter-widgets/controls",
          "model_name": "DescriptionStyleModel",
          "model_module_version": "1.5.0",
          "state": {
            "_model_module": "@jupyter-widgets/controls",
            "_model_module_version": "1.5.0",
            "_model_name": "DescriptionStyleModel",
            "_view_count": null,
            "_view_module": "@jupyter-widgets/base",
            "_view_module_version": "1.2.0",
            "_view_name": "StyleView",
            "description_width": ""
          }
        },
        "ea5c1585387a470db54668b369f99751": {
          "model_module": "@jupyter-widgets/base",
          "model_name": "LayoutModel",
          "model_module_version": "1.2.0",
          "state": {
            "_model_module": "@jupyter-widgets/base",
            "_model_module_version": "1.2.0",
            "_model_name": "LayoutModel",
            "_view_count": null,
            "_view_module": "@jupyter-widgets/base",
            "_view_module_version": "1.2.0",
            "_view_name": "LayoutView",
            "align_content": null,
            "align_items": null,
            "align_self": null,
            "border": null,
            "bottom": null,
            "display": null,
            "flex": null,
            "flex_flow": null,
            "grid_area": null,
            "grid_auto_columns": null,
            "grid_auto_flow": null,
            "grid_auto_rows": null,
            "grid_column": null,
            "grid_gap": null,
            "grid_row": null,
            "grid_template_areas": null,
            "grid_template_columns": null,
            "grid_template_rows": null,
            "height": null,
            "justify_content": null,
            "justify_items": null,
            "left": null,
            "margin": null,
            "max_height": null,
            "max_width": null,
            "min_height": null,
            "min_width": null,
            "object_fit": null,
            "object_position": null,
            "order": null,
            "overflow": null,
            "overflow_x": null,
            "overflow_y": null,
            "padding": null,
            "right": null,
            "top": null,
            "visibility": null,
            "width": "20px"
          }
        },
        "365d0a8b27664e508ba79e5e6b05f14d": {
          "model_module": "@jupyter-widgets/controls",
          "model_name": "ProgressStyleModel",
          "model_module_version": "1.5.0",
          "state": {
            "_model_module": "@jupyter-widgets/controls",
            "_model_module_version": "1.5.0",
            "_model_name": "ProgressStyleModel",
            "_view_count": null,
            "_view_module": "@jupyter-widgets/base",
            "_view_module_version": "1.2.0",
            "_view_name": "StyleView",
            "bar_color": null,
            "description_width": ""
          }
        },
        "6dad65cd5628414dba738fd4e0f89ef9": {
          "model_module": "@jupyter-widgets/base",
          "model_name": "LayoutModel",
          "model_module_version": "1.2.0",
          "state": {
            "_model_module": "@jupyter-widgets/base",
            "_model_module_version": "1.2.0",
            "_model_name": "LayoutModel",
            "_view_count": null,
            "_view_module": "@jupyter-widgets/base",
            "_view_module_version": "1.2.0",
            "_view_name": "LayoutView",
            "align_content": null,
            "align_items": null,
            "align_self": null,
            "border": null,
            "bottom": null,
            "display": null,
            "flex": null,
            "flex_flow": null,
            "grid_area": null,
            "grid_auto_columns": null,
            "grid_auto_flow": null,
            "grid_auto_rows": null,
            "grid_column": null,
            "grid_gap": null,
            "grid_row": null,
            "grid_template_areas": null,
            "grid_template_columns": null,
            "grid_template_rows": null,
            "height": null,
            "justify_content": null,
            "justify_items": null,
            "left": null,
            "margin": null,
            "max_height": null,
            "max_width": null,
            "min_height": null,
            "min_width": null,
            "object_fit": null,
            "object_position": null,
            "order": null,
            "overflow": null,
            "overflow_x": null,
            "overflow_y": null,
            "padding": null,
            "right": null,
            "top": null,
            "visibility": null,
            "width": null
          }
        },
        "3fa1c3e7de6f4f58a9ef12808778303b": {
          "model_module": "@jupyter-widgets/controls",
          "model_name": "DescriptionStyleModel",
          "model_module_version": "1.5.0",
          "state": {
            "_model_module": "@jupyter-widgets/controls",
            "_model_module_version": "1.5.0",
            "_model_name": "DescriptionStyleModel",
            "_view_count": null,
            "_view_module": "@jupyter-widgets/base",
            "_view_module_version": "1.2.0",
            "_view_name": "StyleView",
            "description_width": ""
          }
        },
        "2199f2660a3f45dda935ba28b34ed7e3": {
          "model_module": "@jupyter-widgets/controls",
          "model_name": "HBoxModel",
          "model_module_version": "1.5.0",
          "state": {
            "_dom_classes": [],
            "_model_module": "@jupyter-widgets/controls",
            "_model_module_version": "1.5.0",
            "_model_name": "HBoxModel",
            "_view_count": null,
            "_view_module": "@jupyter-widgets/controls",
            "_view_module_version": "1.5.0",
            "_view_name": "HBoxView",
            "box_style": "",
            "children": [
              "IPY_MODEL_0e557ac7404641869f92171cba581c75",
              "IPY_MODEL_ebf58733b9e04870a9ae64980b0a5586",
              "IPY_MODEL_8a9076e4ff924d61adab3d8e53efd402"
            ],
            "layout": "IPY_MODEL_3559611f3fea4ba08b58fe5cc497a17f"
          }
        },
        "0e557ac7404641869f92171cba581c75": {
          "model_module": "@jupyter-widgets/controls",
          "model_name": "HTMLModel",
          "model_module_version": "1.5.0",
          "state": {
            "_dom_classes": [],
            "_model_module": "@jupyter-widgets/controls",
            "_model_module_version": "1.5.0",
            "_model_name": "HTMLModel",
            "_view_count": null,
            "_view_module": "@jupyter-widgets/controls",
            "_view_module_version": "1.5.0",
            "_view_name": "HTMLView",
            "description": "",
            "description_tooltip": null,
            "layout": "IPY_MODEL_849f93fd41a4426096060988f86877b7",
            "placeholder": "​",
            "style": "IPY_MODEL_cd7346aac64d40d295babd686688c61a",
            "value": "Extraction completed...:  99%"
          }
        },
        "ebf58733b9e04870a9ae64980b0a5586": {
          "model_module": "@jupyter-widgets/controls",
          "model_name": "FloatProgressModel",
          "model_module_version": "1.5.0",
          "state": {
            "_dom_classes": [],
            "_model_module": "@jupyter-widgets/controls",
            "_model_module_version": "1.5.0",
            "_model_name": "FloatProgressModel",
            "_view_count": null,
            "_view_module": "@jupyter-widgets/controls",
            "_view_module_version": "1.5.0",
            "_view_name": "ProgressView",
            "bar_style": "info",
            "description": "",
            "description_tooltip": null,
            "layout": "IPY_MODEL_8e7cee2778bb4c55936b3cdf5e65ccfe",
            "max": 1,
            "min": 0,
            "orientation": "horizontal",
            "style": "IPY_MODEL_527d7072e8224cb3babb695ed2050a1b",
            "value": 0
          }
        },
        "8a9076e4ff924d61adab3d8e53efd402": {
          "model_module": "@jupyter-widgets/controls",
          "model_name": "HTMLModel",
          "model_module_version": "1.5.0",
          "state": {
            "_dom_classes": [],
            "_model_module": "@jupyter-widgets/controls",
            "_model_module_version": "1.5.0",
            "_model_name": "HTMLModel",
            "_view_count": null,
            "_view_module": "@jupyter-widgets/controls",
            "_view_module_version": "1.5.0",
            "_view_name": "HTMLView",
            "description": "",
            "description_tooltip": null,
            "layout": "IPY_MODEL_d42d26ffe5dc4dc192962afc03a9842e",
            "placeholder": "​",
            "style": "IPY_MODEL_9f9b6a8dc95f4a08960d77eb519846cc",
            "value": " 27223/27560 [01:04&lt;00:00, 1777.14 file/s]"
          }
        },
        "3559611f3fea4ba08b58fe5cc497a17f": {
          "model_module": "@jupyter-widgets/base",
          "model_name": "LayoutModel",
          "model_module_version": "1.2.0",
          "state": {
            "_model_module": "@jupyter-widgets/base",
            "_model_module_version": "1.2.0",
            "_model_name": "LayoutModel",
            "_view_count": null,
            "_view_module": "@jupyter-widgets/base",
            "_view_module_version": "1.2.0",
            "_view_name": "LayoutView",
            "align_content": null,
            "align_items": null,
            "align_self": null,
            "border": null,
            "bottom": null,
            "display": null,
            "flex": null,
            "flex_flow": null,
            "grid_area": null,
            "grid_auto_columns": null,
            "grid_auto_flow": null,
            "grid_auto_rows": null,
            "grid_column": null,
            "grid_gap": null,
            "grid_row": null,
            "grid_template_areas": null,
            "grid_template_columns": null,
            "grid_template_rows": null,
            "height": null,
            "justify_content": null,
            "justify_items": null,
            "left": null,
            "margin": null,
            "max_height": null,
            "max_width": null,
            "min_height": null,
            "min_width": null,
            "object_fit": null,
            "object_position": null,
            "order": null,
            "overflow": null,
            "overflow_x": null,
            "overflow_y": null,
            "padding": null,
            "right": null,
            "top": null,
            "visibility": null,
            "width": null
          }
        },
        "849f93fd41a4426096060988f86877b7": {
          "model_module": "@jupyter-widgets/base",
          "model_name": "LayoutModel",
          "model_module_version": "1.2.0",
          "state": {
            "_model_module": "@jupyter-widgets/base",
            "_model_module_version": "1.2.0",
            "_model_name": "LayoutModel",
            "_view_count": null,
            "_view_module": "@jupyter-widgets/base",
            "_view_module_version": "1.2.0",
            "_view_name": "LayoutView",
            "align_content": null,
            "align_items": null,
            "align_self": null,
            "border": null,
            "bottom": null,
            "display": null,
            "flex": null,
            "flex_flow": null,
            "grid_area": null,
            "grid_auto_columns": null,
            "grid_auto_flow": null,
            "grid_auto_rows": null,
            "grid_column": null,
            "grid_gap": null,
            "grid_row": null,
            "grid_template_areas": null,
            "grid_template_columns": null,
            "grid_template_rows": null,
            "height": null,
            "justify_content": null,
            "justify_items": null,
            "left": null,
            "margin": null,
            "max_height": null,
            "max_width": null,
            "min_height": null,
            "min_width": null,
            "object_fit": null,
            "object_position": null,
            "order": null,
            "overflow": null,
            "overflow_x": null,
            "overflow_y": null,
            "padding": null,
            "right": null,
            "top": null,
            "visibility": null,
            "width": null
          }
        },
        "cd7346aac64d40d295babd686688c61a": {
          "model_module": "@jupyter-widgets/controls",
          "model_name": "DescriptionStyleModel",
          "model_module_version": "1.5.0",
          "state": {
            "_model_module": "@jupyter-widgets/controls",
            "_model_module_version": "1.5.0",
            "_model_name": "DescriptionStyleModel",
            "_view_count": null,
            "_view_module": "@jupyter-widgets/base",
            "_view_module_version": "1.2.0",
            "_view_name": "StyleView",
            "description_width": ""
          }
        },
        "8e7cee2778bb4c55936b3cdf5e65ccfe": {
          "model_module": "@jupyter-widgets/base",
          "model_name": "LayoutModel",
          "model_module_version": "1.2.0",
          "state": {
            "_model_module": "@jupyter-widgets/base",
            "_model_module_version": "1.2.0",
            "_model_name": "LayoutModel",
            "_view_count": null,
            "_view_module": "@jupyter-widgets/base",
            "_view_module_version": "1.2.0",
            "_view_name": "LayoutView",
            "align_content": null,
            "align_items": null,
            "align_self": null,
            "border": null,
            "bottom": null,
            "display": null,
            "flex": null,
            "flex_flow": null,
            "grid_area": null,
            "grid_auto_columns": null,
            "grid_auto_flow": null,
            "grid_auto_rows": null,
            "grid_column": null,
            "grid_gap": null,
            "grid_row": null,
            "grid_template_areas": null,
            "grid_template_columns": null,
            "grid_template_rows": null,
            "height": null,
            "justify_content": null,
            "justify_items": null,
            "left": null,
            "margin": null,
            "max_height": null,
            "max_width": null,
            "min_height": null,
            "min_width": null,
            "object_fit": null,
            "object_position": null,
            "order": null,
            "overflow": null,
            "overflow_x": null,
            "overflow_y": null,
            "padding": null,
            "right": null,
            "top": null,
            "visibility": null,
            "width": "20px"
          }
        },
        "527d7072e8224cb3babb695ed2050a1b": {
          "model_module": "@jupyter-widgets/controls",
          "model_name": "ProgressStyleModel",
          "model_module_version": "1.5.0",
          "state": {
            "_model_module": "@jupyter-widgets/controls",
            "_model_module_version": "1.5.0",
            "_model_name": "ProgressStyleModel",
            "_view_count": null,
            "_view_module": "@jupyter-widgets/base",
            "_view_module_version": "1.2.0",
            "_view_name": "StyleView",
            "bar_color": null,
            "description_width": ""
          }
        },
        "d42d26ffe5dc4dc192962afc03a9842e": {
          "model_module": "@jupyter-widgets/base",
          "model_name": "LayoutModel",
          "model_module_version": "1.2.0",
          "state": {
            "_model_module": "@jupyter-widgets/base",
            "_model_module_version": "1.2.0",
            "_model_name": "LayoutModel",
            "_view_count": null,
            "_view_module": "@jupyter-widgets/base",
            "_view_module_version": "1.2.0",
            "_view_name": "LayoutView",
            "align_content": null,
            "align_items": null,
            "align_self": null,
            "border": null,
            "bottom": null,
            "display": null,
            "flex": null,
            "flex_flow": null,
            "grid_area": null,
            "grid_auto_columns": null,
            "grid_auto_flow": null,
            "grid_auto_rows": null,
            "grid_column": null,
            "grid_gap": null,
            "grid_row": null,
            "grid_template_areas": null,
            "grid_template_columns": null,
            "grid_template_rows": null,
            "height": null,
            "justify_content": null,
            "justify_items": null,
            "left": null,
            "margin": null,
            "max_height": null,
            "max_width": null,
            "min_height": null,
            "min_width": null,
            "object_fit": null,
            "object_position": null,
            "order": null,
            "overflow": null,
            "overflow_x": null,
            "overflow_y": null,
            "padding": null,
            "right": null,
            "top": null,
            "visibility": null,
            "width": null
          }
        },
        "9f9b6a8dc95f4a08960d77eb519846cc": {
          "model_module": "@jupyter-widgets/controls",
          "model_name": "DescriptionStyleModel",
          "model_module_version": "1.5.0",
          "state": {
            "_model_module": "@jupyter-widgets/controls",
            "_model_module_version": "1.5.0",
            "_model_name": "DescriptionStyleModel",
            "_view_count": null,
            "_view_module": "@jupyter-widgets/base",
            "_view_module_version": "1.2.0",
            "_view_name": "StyleView",
            "description_width": ""
          }
        },
        "13f54ceacbc94fd48ea5e6efcf54e0f7": {
          "model_module": "@jupyter-widgets/controls",
          "model_name": "HBoxModel",
          "model_module_version": "1.5.0",
          "state": {
            "_dom_classes": [],
            "_model_module": "@jupyter-widgets/controls",
            "_model_module_version": "1.5.0",
            "_model_name": "HBoxModel",
            "_view_count": null,
            "_view_module": "@jupyter-widgets/controls",
            "_view_module_version": "1.5.0",
            "_view_name": "HBoxView",
            "box_style": "",
            "children": [
              "IPY_MODEL_dd37fa13c30e4e339021c7a0748c5224",
              "IPY_MODEL_f6b5518f876048dd92c71bfd2731714c",
              "IPY_MODEL_4b672fbeee4845a98b82fdbc46f94337"
            ],
            "layout": "IPY_MODEL_be2767bd206d44629ee1ac2e5b939b7f"
          }
        },
        "dd37fa13c30e4e339021c7a0748c5224": {
          "model_module": "@jupyter-widgets/controls",
          "model_name": "HTMLModel",
          "model_module_version": "1.5.0",
          "state": {
            "_dom_classes": [],
            "_model_module": "@jupyter-widgets/controls",
            "_model_module_version": "1.5.0",
            "_model_name": "HTMLModel",
            "_view_count": null,
            "_view_module": "@jupyter-widgets/controls",
            "_view_module_version": "1.5.0",
            "_view_name": "HTMLView",
            "description": "",
            "description_tooltip": null,
            "layout": "IPY_MODEL_0d2a993e91064a13993da815a3f8eb10",
            "placeholder": "​",
            "style": "IPY_MODEL_6bf940d04c76440da490c25738d6c61b",
            "value": "Generating train examples...:  98%"
          }
        },
        "f6b5518f876048dd92c71bfd2731714c": {
          "model_module": "@jupyter-widgets/controls",
          "model_name": "FloatProgressModel",
          "model_module_version": "1.5.0",
          "state": {
            "_dom_classes": [],
            "_model_module": "@jupyter-widgets/controls",
            "_model_module_version": "1.5.0",
            "_model_name": "FloatProgressModel",
            "_view_count": null,
            "_view_module": "@jupyter-widgets/controls",
            "_view_module_version": "1.5.0",
            "_view_name": "ProgressView",
            "bar_style": "",
            "description": "",
            "description_tooltip": null,
            "layout": "IPY_MODEL_d055e1193e5e41d8934f54df366261fd",
            "max": 27558,
            "min": 0,
            "orientation": "horizontal",
            "style": "IPY_MODEL_69880cd677b94c139069717fcf80dccd",
            "value": 27558
          }
        },
        "4b672fbeee4845a98b82fdbc46f94337": {
          "model_module": "@jupyter-widgets/controls",
          "model_name": "HTMLModel",
          "model_module_version": "1.5.0",
          "state": {
            "_dom_classes": [],
            "_model_module": "@jupyter-widgets/controls",
            "_model_module_version": "1.5.0",
            "_model_name": "HTMLModel",
            "_view_count": null,
            "_view_module": "@jupyter-widgets/controls",
            "_view_module_version": "1.5.0",
            "_view_name": "HTMLView",
            "description": "",
            "description_tooltip": null,
            "layout": "IPY_MODEL_2dcb9c2e452d40cfb0e3a3d8c3380cd7",
            "placeholder": "​",
            "style": "IPY_MODEL_8f34a8e09deb4f67afac48b65303328b",
            "value": " 27144/27558 [00:05&lt;00:00, 5549.44 examples/s]"
          }
        },
        "be2767bd206d44629ee1ac2e5b939b7f": {
          "model_module": "@jupyter-widgets/base",
          "model_name": "LayoutModel",
          "model_module_version": "1.2.0",
          "state": {
            "_model_module": "@jupyter-widgets/base",
            "_model_module_version": "1.2.0",
            "_model_name": "LayoutModel",
            "_view_count": null,
            "_view_module": "@jupyter-widgets/base",
            "_view_module_version": "1.2.0",
            "_view_name": "LayoutView",
            "align_content": null,
            "align_items": null,
            "align_self": null,
            "border": null,
            "bottom": null,
            "display": null,
            "flex": null,
            "flex_flow": null,
            "grid_area": null,
            "grid_auto_columns": null,
            "grid_auto_flow": null,
            "grid_auto_rows": null,
            "grid_column": null,
            "grid_gap": null,
            "grid_row": null,
            "grid_template_areas": null,
            "grid_template_columns": null,
            "grid_template_rows": null,
            "height": null,
            "justify_content": null,
            "justify_items": null,
            "left": null,
            "margin": null,
            "max_height": null,
            "max_width": null,
            "min_height": null,
            "min_width": null,
            "object_fit": null,
            "object_position": null,
            "order": null,
            "overflow": null,
            "overflow_x": null,
            "overflow_y": null,
            "padding": null,
            "right": null,
            "top": null,
            "visibility": "hidden",
            "width": null
          }
        },
        "0d2a993e91064a13993da815a3f8eb10": {
          "model_module": "@jupyter-widgets/base",
          "model_name": "LayoutModel",
          "model_module_version": "1.2.0",
          "state": {
            "_model_module": "@jupyter-widgets/base",
            "_model_module_version": "1.2.0",
            "_model_name": "LayoutModel",
            "_view_count": null,
            "_view_module": "@jupyter-widgets/base",
            "_view_module_version": "1.2.0",
            "_view_name": "LayoutView",
            "align_content": null,
            "align_items": null,
            "align_self": null,
            "border": null,
            "bottom": null,
            "display": null,
            "flex": null,
            "flex_flow": null,
            "grid_area": null,
            "grid_auto_columns": null,
            "grid_auto_flow": null,
            "grid_auto_rows": null,
            "grid_column": null,
            "grid_gap": null,
            "grid_row": null,
            "grid_template_areas": null,
            "grid_template_columns": null,
            "grid_template_rows": null,
            "height": null,
            "justify_content": null,
            "justify_items": null,
            "left": null,
            "margin": null,
            "max_height": null,
            "max_width": null,
            "min_height": null,
            "min_width": null,
            "object_fit": null,
            "object_position": null,
            "order": null,
            "overflow": null,
            "overflow_x": null,
            "overflow_y": null,
            "padding": null,
            "right": null,
            "top": null,
            "visibility": null,
            "width": null
          }
        },
        "6bf940d04c76440da490c25738d6c61b": {
          "model_module": "@jupyter-widgets/controls",
          "model_name": "DescriptionStyleModel",
          "model_module_version": "1.5.0",
          "state": {
            "_model_module": "@jupyter-widgets/controls",
            "_model_module_version": "1.5.0",
            "_model_name": "DescriptionStyleModel",
            "_view_count": null,
            "_view_module": "@jupyter-widgets/base",
            "_view_module_version": "1.2.0",
            "_view_name": "StyleView",
            "description_width": ""
          }
        },
        "d055e1193e5e41d8934f54df366261fd": {
          "model_module": "@jupyter-widgets/base",
          "model_name": "LayoutModel",
          "model_module_version": "1.2.0",
          "state": {
            "_model_module": "@jupyter-widgets/base",
            "_model_module_version": "1.2.0",
            "_model_name": "LayoutModel",
            "_view_count": null,
            "_view_module": "@jupyter-widgets/base",
            "_view_module_version": "1.2.0",
            "_view_name": "LayoutView",
            "align_content": null,
            "align_items": null,
            "align_self": null,
            "border": null,
            "bottom": null,
            "display": null,
            "flex": null,
            "flex_flow": null,
            "grid_area": null,
            "grid_auto_columns": null,
            "grid_auto_flow": null,
            "grid_auto_rows": null,
            "grid_column": null,
            "grid_gap": null,
            "grid_row": null,
            "grid_template_areas": null,
            "grid_template_columns": null,
            "grid_template_rows": null,
            "height": null,
            "justify_content": null,
            "justify_items": null,
            "left": null,
            "margin": null,
            "max_height": null,
            "max_width": null,
            "min_height": null,
            "min_width": null,
            "object_fit": null,
            "object_position": null,
            "order": null,
            "overflow": null,
            "overflow_x": null,
            "overflow_y": null,
            "padding": null,
            "right": null,
            "top": null,
            "visibility": null,
            "width": null
          }
        },
        "69880cd677b94c139069717fcf80dccd": {
          "model_module": "@jupyter-widgets/controls",
          "model_name": "ProgressStyleModel",
          "model_module_version": "1.5.0",
          "state": {
            "_model_module": "@jupyter-widgets/controls",
            "_model_module_version": "1.5.0",
            "_model_name": "ProgressStyleModel",
            "_view_count": null,
            "_view_module": "@jupyter-widgets/base",
            "_view_module_version": "1.2.0",
            "_view_name": "StyleView",
            "bar_color": null,
            "description_width": ""
          }
        },
        "2dcb9c2e452d40cfb0e3a3d8c3380cd7": {
          "model_module": "@jupyter-widgets/base",
          "model_name": "LayoutModel",
          "model_module_version": "1.2.0",
          "state": {
            "_model_module": "@jupyter-widgets/base",
            "_model_module_version": "1.2.0",
            "_model_name": "LayoutModel",
            "_view_count": null,
            "_view_module": "@jupyter-widgets/base",
            "_view_module_version": "1.2.0",
            "_view_name": "LayoutView",
            "align_content": null,
            "align_items": null,
            "align_self": null,
            "border": null,
            "bottom": null,
            "display": null,
            "flex": null,
            "flex_flow": null,
            "grid_area": null,
            "grid_auto_columns": null,
            "grid_auto_flow": null,
            "grid_auto_rows": null,
            "grid_column": null,
            "grid_gap": null,
            "grid_row": null,
            "grid_template_areas": null,
            "grid_template_columns": null,
            "grid_template_rows": null,
            "height": null,
            "justify_content": null,
            "justify_items": null,
            "left": null,
            "margin": null,
            "max_height": null,
            "max_width": null,
            "min_height": null,
            "min_width": null,
            "object_fit": null,
            "object_position": null,
            "order": null,
            "overflow": null,
            "overflow_x": null,
            "overflow_y": null,
            "padding": null,
            "right": null,
            "top": null,
            "visibility": null,
            "width": null
          }
        },
        "8f34a8e09deb4f67afac48b65303328b": {
          "model_module": "@jupyter-widgets/controls",
          "model_name": "DescriptionStyleModel",
          "model_module_version": "1.5.0",
          "state": {
            "_model_module": "@jupyter-widgets/controls",
            "_model_module_version": "1.5.0",
            "_model_name": "DescriptionStyleModel",
            "_view_count": null,
            "_view_module": "@jupyter-widgets/base",
            "_view_module_version": "1.2.0",
            "_view_name": "StyleView",
            "description_width": ""
          }
        },
        "c177c70a69944da5b7397f167269faf6": {
          "model_module": "@jupyter-widgets/controls",
          "model_name": "HBoxModel",
          "model_module_version": "1.5.0",
          "state": {
            "_dom_classes": [],
            "_model_module": "@jupyter-widgets/controls",
            "_model_module_version": "1.5.0",
            "_model_name": "HBoxModel",
            "_view_count": null,
            "_view_module": "@jupyter-widgets/controls",
            "_view_module_version": "1.5.0",
            "_view_name": "HBoxView",
            "box_style": "",
            "children": [
              "IPY_MODEL_470f52b742e24631a5a392283fe17382",
              "IPY_MODEL_088bf9bef6a643d68f5874023705e6c1",
              "IPY_MODEL_c41b1f07503745738e2325a659c9ea2f"
            ],
            "layout": "IPY_MODEL_44f73e3fe3a94898a6d0bac61e33f52d"
          }
        },
        "470f52b742e24631a5a392283fe17382": {
          "model_module": "@jupyter-widgets/controls",
          "model_name": "HTMLModel",
          "model_module_version": "1.5.0",
          "state": {
            "_dom_classes": [],
            "_model_module": "@jupyter-widgets/controls",
            "_model_module_version": "1.5.0",
            "_model_name": "HTMLModel",
            "_view_count": null,
            "_view_module": "@jupyter-widgets/controls",
            "_view_module_version": "1.5.0",
            "_view_name": "HTMLView",
            "description": "",
            "description_tooltip": null,
            "layout": "IPY_MODEL_754d92ad2dcc47cfa56ce9fb2a42f038",
            "placeholder": "​",
            "style": "IPY_MODEL_0d7a72c4600343279fea36986ceb77c8",
            "value": "Shuffling /root/tensorflow_datasets/malaria/1.0.0.incompleteANDDUX/malaria-train.tfrecord*...:  93%"
          }
        },
        "088bf9bef6a643d68f5874023705e6c1": {
          "model_module": "@jupyter-widgets/controls",
          "model_name": "FloatProgressModel",
          "model_module_version": "1.5.0",
          "state": {
            "_dom_classes": [],
            "_model_module": "@jupyter-widgets/controls",
            "_model_module_version": "1.5.0",
            "_model_name": "FloatProgressModel",
            "_view_count": null,
            "_view_module": "@jupyter-widgets/controls",
            "_view_module_version": "1.5.0",
            "_view_name": "ProgressView",
            "bar_style": "",
            "description": "",
            "description_tooltip": null,
            "layout": "IPY_MODEL_49ac3a0f31074538881a39eaf3298da0",
            "max": 27558,
            "min": 0,
            "orientation": "horizontal",
            "style": "IPY_MODEL_c1a766cf64514bcdbe615e4755390113",
            "value": 27558
          }
        },
        "c41b1f07503745738e2325a659c9ea2f": {
          "model_module": "@jupyter-widgets/controls",
          "model_name": "HTMLModel",
          "model_module_version": "1.5.0",
          "state": {
            "_dom_classes": [],
            "_model_module": "@jupyter-widgets/controls",
            "_model_module_version": "1.5.0",
            "_model_name": "HTMLModel",
            "_view_count": null,
            "_view_module": "@jupyter-widgets/controls",
            "_view_module_version": "1.5.0",
            "_view_name": "HTMLView",
            "description": "",
            "description_tooltip": null,
            "layout": "IPY_MODEL_bba83f04496d4fb0bd16081f6820f857",
            "placeholder": "​",
            "style": "IPY_MODEL_dcb6dcb443f14f5dbf3cbe0dcb36b6d9",
            "value": " 25684/27558 [00:00&lt;00:00, 67305.04 examples/s]"
          }
        },
        "44f73e3fe3a94898a6d0bac61e33f52d": {
          "model_module": "@jupyter-widgets/base",
          "model_name": "LayoutModel",
          "model_module_version": "1.2.0",
          "state": {
            "_model_module": "@jupyter-widgets/base",
            "_model_module_version": "1.2.0",
            "_model_name": "LayoutModel",
            "_view_count": null,
            "_view_module": "@jupyter-widgets/base",
            "_view_module_version": "1.2.0",
            "_view_name": "LayoutView",
            "align_content": null,
            "align_items": null,
            "align_self": null,
            "border": null,
            "bottom": null,
            "display": null,
            "flex": null,
            "flex_flow": null,
            "grid_area": null,
            "grid_auto_columns": null,
            "grid_auto_flow": null,
            "grid_auto_rows": null,
            "grid_column": null,
            "grid_gap": null,
            "grid_row": null,
            "grid_template_areas": null,
            "grid_template_columns": null,
            "grid_template_rows": null,
            "height": null,
            "justify_content": null,
            "justify_items": null,
            "left": null,
            "margin": null,
            "max_height": null,
            "max_width": null,
            "min_height": null,
            "min_width": null,
            "object_fit": null,
            "object_position": null,
            "order": null,
            "overflow": null,
            "overflow_x": null,
            "overflow_y": null,
            "padding": null,
            "right": null,
            "top": null,
            "visibility": "hidden",
            "width": null
          }
        },
        "754d92ad2dcc47cfa56ce9fb2a42f038": {
          "model_module": "@jupyter-widgets/base",
          "model_name": "LayoutModel",
          "model_module_version": "1.2.0",
          "state": {
            "_model_module": "@jupyter-widgets/base",
            "_model_module_version": "1.2.0",
            "_model_name": "LayoutModel",
            "_view_count": null,
            "_view_module": "@jupyter-widgets/base",
            "_view_module_version": "1.2.0",
            "_view_name": "LayoutView",
            "align_content": null,
            "align_items": null,
            "align_self": null,
            "border": null,
            "bottom": null,
            "display": null,
            "flex": null,
            "flex_flow": null,
            "grid_area": null,
            "grid_auto_columns": null,
            "grid_auto_flow": null,
            "grid_auto_rows": null,
            "grid_column": null,
            "grid_gap": null,
            "grid_row": null,
            "grid_template_areas": null,
            "grid_template_columns": null,
            "grid_template_rows": null,
            "height": null,
            "justify_content": null,
            "justify_items": null,
            "left": null,
            "margin": null,
            "max_height": null,
            "max_width": null,
            "min_height": null,
            "min_width": null,
            "object_fit": null,
            "object_position": null,
            "order": null,
            "overflow": null,
            "overflow_x": null,
            "overflow_y": null,
            "padding": null,
            "right": null,
            "top": null,
            "visibility": null,
            "width": null
          }
        },
        "0d7a72c4600343279fea36986ceb77c8": {
          "model_module": "@jupyter-widgets/controls",
          "model_name": "DescriptionStyleModel",
          "model_module_version": "1.5.0",
          "state": {
            "_model_module": "@jupyter-widgets/controls",
            "_model_module_version": "1.5.0",
            "_model_name": "DescriptionStyleModel",
            "_view_count": null,
            "_view_module": "@jupyter-widgets/base",
            "_view_module_version": "1.2.0",
            "_view_name": "StyleView",
            "description_width": ""
          }
        },
        "49ac3a0f31074538881a39eaf3298da0": {
          "model_module": "@jupyter-widgets/base",
          "model_name": "LayoutModel",
          "model_module_version": "1.2.0",
          "state": {
            "_model_module": "@jupyter-widgets/base",
            "_model_module_version": "1.2.0",
            "_model_name": "LayoutModel",
            "_view_count": null,
            "_view_module": "@jupyter-widgets/base",
            "_view_module_version": "1.2.0",
            "_view_name": "LayoutView",
            "align_content": null,
            "align_items": null,
            "align_self": null,
            "border": null,
            "bottom": null,
            "display": null,
            "flex": null,
            "flex_flow": null,
            "grid_area": null,
            "grid_auto_columns": null,
            "grid_auto_flow": null,
            "grid_auto_rows": null,
            "grid_column": null,
            "grid_gap": null,
            "grid_row": null,
            "grid_template_areas": null,
            "grid_template_columns": null,
            "grid_template_rows": null,
            "height": null,
            "justify_content": null,
            "justify_items": null,
            "left": null,
            "margin": null,
            "max_height": null,
            "max_width": null,
            "min_height": null,
            "min_width": null,
            "object_fit": null,
            "object_position": null,
            "order": null,
            "overflow": null,
            "overflow_x": null,
            "overflow_y": null,
            "padding": null,
            "right": null,
            "top": null,
            "visibility": null,
            "width": null
          }
        },
        "c1a766cf64514bcdbe615e4755390113": {
          "model_module": "@jupyter-widgets/controls",
          "model_name": "ProgressStyleModel",
          "model_module_version": "1.5.0",
          "state": {
            "_model_module": "@jupyter-widgets/controls",
            "_model_module_version": "1.5.0",
            "_model_name": "ProgressStyleModel",
            "_view_count": null,
            "_view_module": "@jupyter-widgets/base",
            "_view_module_version": "1.2.0",
            "_view_name": "StyleView",
            "bar_color": null,
            "description_width": ""
          }
        },
        "bba83f04496d4fb0bd16081f6820f857": {
          "model_module": "@jupyter-widgets/base",
          "model_name": "LayoutModel",
          "model_module_version": "1.2.0",
          "state": {
            "_model_module": "@jupyter-widgets/base",
            "_model_module_version": "1.2.0",
            "_model_name": "LayoutModel",
            "_view_count": null,
            "_view_module": "@jupyter-widgets/base",
            "_view_module_version": "1.2.0",
            "_view_name": "LayoutView",
            "align_content": null,
            "align_items": null,
            "align_self": null,
            "border": null,
            "bottom": null,
            "display": null,
            "flex": null,
            "flex_flow": null,
            "grid_area": null,
            "grid_auto_columns": null,
            "grid_auto_flow": null,
            "grid_auto_rows": null,
            "grid_column": null,
            "grid_gap": null,
            "grid_row": null,
            "grid_template_areas": null,
            "grid_template_columns": null,
            "grid_template_rows": null,
            "height": null,
            "justify_content": null,
            "justify_items": null,
            "left": null,
            "margin": null,
            "max_height": null,
            "max_width": null,
            "min_height": null,
            "min_width": null,
            "object_fit": null,
            "object_position": null,
            "order": null,
            "overflow": null,
            "overflow_x": null,
            "overflow_y": null,
            "padding": null,
            "right": null,
            "top": null,
            "visibility": null,
            "width": null
          }
        },
        "dcb6dcb443f14f5dbf3cbe0dcb36b6d9": {
          "model_module": "@jupyter-widgets/controls",
          "model_name": "DescriptionStyleModel",
          "model_module_version": "1.5.0",
          "state": {
            "_model_module": "@jupyter-widgets/controls",
            "_model_module_version": "1.5.0",
            "_model_name": "DescriptionStyleModel",
            "_view_count": null,
            "_view_module": "@jupyter-widgets/base",
            "_view_module_version": "1.2.0",
            "_view_name": "StyleView",
            "description_width": ""
          }
        }
      }
    }
  },
  "cells": [
    {
      "cell_type": "code",
      "execution_count": null,
      "metadata": {
        "id": "Z9jq2NH5a4vz"
      },
      "outputs": [],
      "source": [
        "import tensorflow as tf\n",
        "import matplotlib.pyplot as plt\n",
        "import numpy as np\n",
        "import tensorflow_datasets as tfds\n",
        "import plotly.graph_objects as go\n",
        "from tensorflow.keras.layers import Conv2D, MaxPool2D, Dense, Flatten, InputLayer, BatchNormalization\n",
        "from tensorflow.keras.losses import BinaryCrossentropy\n",
        "from tensorflow.keras.optimizers import Adam"
      ]
    },
    {
      "cell_type": "code",
      "source": [
        "dataset, dataset_info = tfds.load('malaria', with_info=True, as_supervised=True, shuffle_files=True, split=['train'])"
      ],
      "metadata": {
        "colab": {
          "base_uri": "https://localhost:8080/",
          "height": 165,
          "referenced_widgets": [
            "66884a15c63742f480a70431da658870",
            "15ee5d7e5c064806aa4a31e6d5e35753",
            "5626e9f27e9c4c499cd62f3acd2abd17",
            "261386dd4df84b34a555f0051a5e789d",
            "2b87ea9d77f64ab9af814c54bfcfa488",
            "3898fef1030d48eca22d7299eadd1cb6",
            "120e9ea5e95547babef85376b11b1aad",
            "a80277517b7344cba263fa97bf4499f6",
            "56359a991c1f4747826d1c585a580b60",
            "570af79dac314853ade1061067bed3f3",
            "f5845163b64f4892b079733f314d62a6",
            "ceba8e2f8cf74b9d8fa7ef65b6813c40",
            "3cfdbc8269934f96a86ac1141234bdf0",
            "42c2c3b456ff4c0b82a2660ea49042bc",
            "22acd64edaa54e29a526771a672ddb10",
            "3465523ec9dc44a89962e151c1acf67f",
            "e2fb0d016d5243af975641b916e6f645",
            "e48b284dc1a64aaabff7ce76d8c16f00",
            "ea5c1585387a470db54668b369f99751",
            "365d0a8b27664e508ba79e5e6b05f14d",
            "6dad65cd5628414dba738fd4e0f89ef9",
            "3fa1c3e7de6f4f58a9ef12808778303b",
            "2199f2660a3f45dda935ba28b34ed7e3",
            "0e557ac7404641869f92171cba581c75",
            "ebf58733b9e04870a9ae64980b0a5586",
            "8a9076e4ff924d61adab3d8e53efd402",
            "3559611f3fea4ba08b58fe5cc497a17f",
            "849f93fd41a4426096060988f86877b7",
            "cd7346aac64d40d295babd686688c61a",
            "8e7cee2778bb4c55936b3cdf5e65ccfe",
            "527d7072e8224cb3babb695ed2050a1b",
            "d42d26ffe5dc4dc192962afc03a9842e",
            "9f9b6a8dc95f4a08960d77eb519846cc",
            "cf295db92428436c8d99e4b20d215765",
            "13f54ceacbc94fd48ea5e6efcf54e0f7",
            "dd37fa13c30e4e339021c7a0748c5224",
            "f6b5518f876048dd92c71bfd2731714c",
            "4b672fbeee4845a98b82fdbc46f94337",
            "be2767bd206d44629ee1ac2e5b939b7f",
            "0d2a993e91064a13993da815a3f8eb10",
            "6bf940d04c76440da490c25738d6c61b",
            "d055e1193e5e41d8934f54df366261fd",
            "69880cd677b94c139069717fcf80dccd",
            "2dcb9c2e452d40cfb0e3a3d8c3380cd7",
            "8f34a8e09deb4f67afac48b65303328b",
            "c177c70a69944da5b7397f167269faf6",
            "470f52b742e24631a5a392283fe17382",
            "088bf9bef6a643d68f5874023705e6c1",
            "c41b1f07503745738e2325a659c9ea2f",
            "44f73e3fe3a94898a6d0bac61e33f52d",
            "754d92ad2dcc47cfa56ce9fb2a42f038",
            "0d7a72c4600343279fea36986ceb77c8",
            "49ac3a0f31074538881a39eaf3298da0",
            "c1a766cf64514bcdbe615e4755390113",
            "bba83f04496d4fb0bd16081f6820f857",
            "dcb6dcb443f14f5dbf3cbe0dcb36b6d9"
          ]
        },
        "id": "vhMXETgNbeGe",
        "outputId": "828051fe-e8f7-453e-bb51-13cc4dde7a6c"
      },
      "execution_count": null,
      "outputs": [
        {
          "output_type": "stream",
          "name": "stdout",
          "text": [
            "Downloading and preparing dataset 337.08 MiB (download: 337.08 MiB, generated: Unknown size, total: 337.08 MiB) to /root/tensorflow_datasets/malaria/1.0.0...\n"
          ]
        },
        {
          "output_type": "display_data",
          "data": {
            "text/plain": [
              "Dl Completed...: 0 url [00:00, ? url/s]"
            ],
            "application/vnd.jupyter.widget-view+json": {
              "version_major": 2,
              "version_minor": 0,
              "model_id": "66884a15c63742f480a70431da658870"
            }
          },
          "metadata": {}
        },
        {
          "output_type": "display_data",
          "data": {
            "text/plain": [
              "Dl Size...: 0 MiB [00:00, ? MiB/s]"
            ],
            "application/vnd.jupyter.widget-view+json": {
              "version_major": 2,
              "version_minor": 0,
              "model_id": "ceba8e2f8cf74b9d8fa7ef65b6813c40"
            }
          },
          "metadata": {}
        },
        {
          "output_type": "display_data",
          "data": {
            "text/plain": [
              "Extraction completed...: 0 file [00:00, ? file/s]"
            ],
            "application/vnd.jupyter.widget-view+json": {
              "version_major": 2,
              "version_minor": 0,
              "model_id": "2199f2660a3f45dda935ba28b34ed7e3"
            }
          },
          "metadata": {}
        },
        {
          "output_type": "display_data",
          "data": {
            "text/plain": [
              "Generating splits...:   0%|          | 0/1 [00:00<?, ? splits/s]"
            ],
            "application/vnd.jupyter.widget-view+json": {
              "version_major": 2,
              "version_minor": 0,
              "model_id": "cf295db92428436c8d99e4b20d215765"
            }
          },
          "metadata": {}
        },
        {
          "output_type": "display_data",
          "data": {
            "text/plain": [
              "Generating train examples...:   0%|          | 0/27558 [00:00<?, ? examples/s]"
            ],
            "application/vnd.jupyter.widget-view+json": {
              "version_major": 2,
              "version_minor": 0,
              "model_id": "13f54ceacbc94fd48ea5e6efcf54e0f7"
            }
          },
          "metadata": {}
        },
        {
          "output_type": "display_data",
          "data": {
            "text/plain": [
              "Shuffling /root/tensorflow_datasets/malaria/1.0.0.incompleteANDDUX/malaria-train.tfrecord*...:   0%|          …"
            ],
            "application/vnd.jupyter.widget-view+json": {
              "version_major": 2,
              "version_minor": 0,
              "model_id": "c177c70a69944da5b7397f167269faf6"
            }
          },
          "metadata": {}
        },
        {
          "output_type": "stream",
          "name": "stdout",
          "text": [
            "Dataset malaria downloaded and prepared to /root/tensorflow_datasets/malaria/1.0.0. Subsequent calls will reuse this data.\n"
          ]
        }
      ]
    },
    {
      "cell_type": "code",
      "source": [
        "def split(dataset,train_ratio, test_ratio, val_ratio):\n",
        "  dataset_size = len(dataset)\n",
        "\n",
        "  train_dataset = dataset.take(int(train_ratio*dataset_size))\n",
        "\n",
        "  val_test_dataset = dataset.skip(int(train_ratio*dataset_size))\n",
        "  val_dataset = val_test_dataset.take(int(val_ratio*dataset_size))\n",
        "\n",
        "  test_dataset = val_test_dataset.skip(int(val_ratio*dataset_size))\n",
        "\n",
        "  return train_dataset, val_dataset, test_dataset"
      ],
      "metadata": {
        "id": "aTnZjwetrVTk"
      },
      "execution_count": null,
      "outputs": []
    },
    {
      "cell_type": "code",
      "source": [
        "train_ratio=0.6\n",
        "test_ratio=0.2\n",
        "val_ratio =0.2\n",
        "\n",
        "train_dataset, val_dataset, test_dataset = split(dataset[0], train_ratio, test_ratio, val_ratio)"
      ],
      "metadata": {
        "id": "g_UMSFQFr4ix"
      },
      "execution_count": null,
      "outputs": []
    },
    {
      "cell_type": "code",
      "source": [
        "for i, (image, label) in enumerate(train_dataset.take(16)):\n",
        "  ax = plt.subplot(4,4, 1+i)\n",
        "  plt.imshow(image)\n",
        "  plt.title(dataset_info.features['label'].int2str(label))\n",
        "  plt.axis('off')# retirando os valores nos eixos\n",
        "plt.tight_layout();"
      ],
      "metadata": {
        "id": "D7OTTfLY_9rO",
        "colab": {
          "base_uri": "https://localhost:8080/",
          "height": 487
        },
        "outputId": "7317c28b-1e0e-4177-c5bf-7eca45a34ab6"
      },
      "execution_count": null,
      "outputs": [
        {
          "output_type": "display_data",
          "data": {
            "text/plain": [
              "<Figure size 640x480 with 16 Axes>"
            ],
            "image/png": "[encoded data removed]"
          },
          "metadata": {}
        }
      ]
    },
    {
      "cell_type": "markdown",
      "source": [
        "# Data Processing"
      ],
      "metadata": {
        "id": "v6vAcS0dAaU0"
      }
    },
    {
      "cell_type": "code",
      "source": [
        "# função para redimensionalizar a imagem e mudar a escala de cores(ficará entre 0 e 1)\n",
        "im_size = 224\n",
        "def resize_rescale(image, label):\n",
        "  return tf.image.resize(image,(im_size,im_size))/255.0, label"
      ],
      "metadata": {
        "id": "n4AZOBK7Aep2"
      },
      "execution_count": null,
      "outputs": []
    },
    {
      "cell_type": "code",
      "source": [
        "train_dataset = train_dataset.map(resize_rescale)\n",
        "val_dataset = val_dataset.map(resize_rescale)\n",
        "test_dataset = test_dataset.map(resize_rescale)"
      ],
      "metadata": {
        "id": "BYye6drtCTny"
      },
      "execution_count": null,
      "outputs": []
    },
    {
      "cell_type": "code",
      "source": [
        "for data in dataset[0].take(4):\n",
        "  print(data)"
      ],
      "metadata": {
        "id": "BpuLCExWs3wd",
        "colab": {
          "base_uri": "https://localhost:8080/"
        },
        "outputId": "b87a3d13-c704-4cc5-c738-0d7295dbf830"
      },
      "execution_count": null,
      "outputs": [
        {
          "output_type": "stream",
          "name": "stdout",
          "text": [
            "(<tf.Tensor: shape=(103, 103, 3), dtype=uint8, numpy=\n",
            "array([[[0, 0, 0],\n",
            "        [0, 0, 0],\n",
            "        [0, 0, 0],\n",
            "        ...,\n",
            "        [0, 0, 0],\n",
            "        [0, 0, 0],\n",
            "        [0, 0, 0]],\n",
            "\n",
            "       [[0, 0, 0],\n",
            "        [0, 0, 0],\n",
            "        [0, 0, 0],\n",
            "        ...,\n",
            "        [0, 0, 0],\n",
            "        [0, 0, 0],\n",
            "        [0, 0, 0]],\n",
            "\n",
            "       [[0, 0, 0],\n",
            "        [0, 0, 0],\n",
            "        [0, 0, 0],\n",
            "        ...,\n",
            "        [0, 0, 0],\n",
            "        [0, 0, 0],\n",
            "        [0, 0, 0]],\n",
            "\n",
            "       ...,\n",
            "\n",
            "       [[0, 0, 0],\n",
            "        [0, 0, 0],\n",
            "        [0, 0, 0],\n",
            "        ...,\n",
            "        [0, 0, 0],\n",
            "        [0, 0, 0],\n",
            "        [0, 0, 0]],\n",
            "\n",
            "       [[0, 0, 0],\n",
            "        [0, 0, 0],\n",
            "        [0, 0, 0],\n",
            "        ...,\n",
            "        [0, 0, 0],\n",
            "        [0, 0, 0],\n",
            "        [0, 0, 0]],\n",
            "\n",
            "       [[0, 0, 0],\n",
            "        [0, 0, 0],\n",
            "        [0, 0, 0],\n",
            "        ...,\n",
            "        [0, 0, 0],\n",
            "        [0, 0, 0],\n",
            "        [0, 0, 0]]], dtype=uint8)>, <tf.Tensor: shape=(), dtype=int64, numpy=0>)\n",
            "(<tf.Tensor: shape=(115, 157, 3), dtype=uint8, numpy=\n",
            "array([[[0, 0, 0],\n",
            "        [0, 0, 0],\n",
            "        [0, 0, 0],\n",
            "        ...,\n",
            "        [0, 0, 0],\n",
            "        [0, 0, 0],\n",
            "        [0, 0, 0]],\n",
            "\n",
            "       [[0, 0, 0],\n",
            "        [0, 0, 0],\n",
            "        [0, 0, 0],\n",
            "        ...,\n",
            "        [0, 0, 0],\n",
            "        [0, 0, 0],\n",
            "        [0, 0, 0]],\n",
            "\n",
            "       [[0, 0, 0],\n",
            "        [0, 0, 0],\n",
            "        [0, 0, 0],\n",
            "        ...,\n",
            "        [0, 0, 0],\n",
            "        [0, 0, 0],\n",
            "        [0, 0, 0]],\n",
            "\n",
            "       ...,\n",
            "\n",
            "       [[0, 0, 0],\n",
            "        [0, 0, 0],\n",
            "        [0, 0, 0],\n",
            "        ...,\n",
            "        [0, 0, 0],\n",
            "        [0, 0, 0],\n",
            "        [0, 0, 0]],\n",
            "\n",
            "       [[0, 0, 0],\n",
            "        [0, 0, 0],\n",
            "        [0, 0, 0],\n",
            "        ...,\n",
            "        [0, 0, 0],\n",
            "        [0, 0, 0],\n",
            "        [0, 0, 0]],\n",
            "\n",
            "       [[0, 0, 0],\n",
            "        [0, 0, 0],\n",
            "        [0, 0, 0],\n",
            "        ...,\n",
            "        [0, 0, 0],\n",
            "        [0, 0, 0],\n",
            "        [0, 0, 0]]], dtype=uint8)>, <tf.Tensor: shape=(), dtype=int64, numpy=0>)\n",
            "(<tf.Tensor: shape=(136, 127, 3), dtype=uint8, numpy=\n",
            "array([[[0, 0, 0],\n",
            "        [0, 0, 0],\n",
            "        [0, 0, 0],\n",
            "        ...,\n",
            "        [0, 0, 0],\n",
            "        [0, 0, 0],\n",
            "        [0, 0, 0]],\n",
            "\n",
            "       [[0, 0, 0],\n",
            "        [0, 0, 0],\n",
            "        [0, 0, 0],\n",
            "        ...,\n",
            "        [0, 0, 0],\n",
            "        [0, 0, 0],\n",
            "        [0, 0, 0]],\n",
            "\n",
            "       [[0, 0, 0],\n",
            "        [0, 0, 0],\n",
            "        [0, 0, 0],\n",
            "        ...,\n",
            "        [0, 0, 0],\n",
            "        [0, 0, 0],\n",
            "        [0, 0, 0]],\n",
            "\n",
            "       ...,\n",
            "\n",
            "       [[0, 0, 0],\n",
            "        [0, 0, 0],\n",
            "        [0, 0, 0],\n",
            "        ...,\n",
            "        [0, 0, 0],\n",
            "        [0, 0, 0],\n",
            "        [0, 0, 0]],\n",
            "\n",
            "       [[0, 0, 0],\n",
            "        [0, 0, 0],\n",
            "        [0, 0, 0],\n",
            "        ...,\n",
            "        [0, 0, 0],\n",
            "        [0, 0, 0],\n",
            "        [0, 0, 0]],\n",
            "\n",
            "       [[0, 0, 0],\n",
            "        [0, 0, 0],\n",
            "        [0, 0, 0],\n",
            "        ...,\n",
            "        [0, 0, 0],\n",
            "        [0, 0, 0],\n",
            "        [0, 0, 0]]], dtype=uint8)>, <tf.Tensor: shape=(), dtype=int64, numpy=0>)\n",
            "(<tf.Tensor: shape=(166, 139, 3), dtype=uint8, numpy=\n",
            "array([[[0, 0, 0],\n",
            "        [0, 0, 0],\n",
            "        [0, 0, 0],\n",
            "        ...,\n",
            "        [0, 0, 0],\n",
            "        [0, 0, 0],\n",
            "        [0, 0, 0]],\n",
            "\n",
            "       [[0, 0, 0],\n",
            "        [0, 0, 0],\n",
            "        [0, 0, 0],\n",
            "        ...,\n",
            "        [0, 0, 0],\n",
            "        [0, 0, 0],\n",
            "        [0, 0, 0]],\n",
            "\n",
            "       [[0, 0, 0],\n",
            "        [0, 0, 0],\n",
            "        [0, 0, 0],\n",
            "        ...,\n",
            "        [0, 0, 0],\n",
            "        [0, 0, 0],\n",
            "        [0, 0, 0]],\n",
            "\n",
            "       ...,\n",
            "\n",
            "       [[0, 0, 0],\n",
            "        [0, 0, 0],\n",
            "        [0, 0, 0],\n",
            "        ...,\n",
            "        [0, 0, 0],\n",
            "        [0, 0, 0],\n",
            "        [0, 0, 0]],\n",
            "\n",
            "       [[0, 0, 0],\n",
            "        [0, 0, 0],\n",
            "        [0, 0, 0],\n",
            "        ...,\n",
            "        [0, 0, 0],\n",
            "        [0, 0, 0],\n",
            "        [0, 0, 0]],\n",
            "\n",
            "       [[0, 0, 0],\n",
            "        [0, 0, 0],\n",
            "        [0, 0, 0],\n",
            "        ...,\n",
            "        [0, 0, 0],\n",
            "        [0, 0, 0],\n",
            "        [0, 0, 0]]], dtype=uint8)>, <tf.Tensor: shape=(), dtype=int64, numpy=0>)\n"
          ]
        }
      ]
    },
    {
      "cell_type": "code",
      "source": [
        "batch_size = 32\n",
        "train_dataset = train_dataset.shuffle(buffer_size=8, reshuffle_each_iteration = True).batch(batch_size).prefetch(tf.data.AUTOTUNE)"
      ],
      "metadata": {
        "id": "vrZShM1yC64J"
      },
      "execution_count": null,
      "outputs": []
    },
    {
      "cell_type": "code",
      "source": [
        "val_dataset = val_dataset.shuffle(buffer_size=8, reshuffle_each_iteration = True).batch(batch_size).prefetch(tf.data.AUTOTUNE)"
      ],
      "metadata": {
        "id": "jZa30QipMVmk"
      },
      "execution_count": null,
      "outputs": []
    },
    {
      "cell_type": "markdown",
      "source": [
        "# Criando e Treinando o Modelo"
      ],
      "metadata": {
        "id": "PC3cJ-CVuJbV"
      }
    },
    {
      "cell_type": "code",
      "source": [
        "model = tf.keras.Sequential([\n",
        "                            InputLayer(input_shape=(im_size,im_size,3)),\n",
        "\n",
        "                            Conv2D(filters=6, kernel_size = 3, strides = 1, padding=\"valid\", activation='relu'),\n",
        "                            BatchNormalization(),\n",
        "                            MaxPool2D(pool_size=2, strides=2),\n",
        "\n",
        "                            Conv2D(filters=16, kernel_size = 3, strides = 1, padding=\"valid\", activation='relu'),\n",
        "                            BatchNormalization(),\n",
        "                            MaxPool2D(pool_size=2, strides=2),\n",
        "\n",
        "                            Flatten(),\n",
        "\n",
        "                            Dense(100, 'relu'),\n",
        "                            BatchNormalization(),\n",
        "                            Dense(10, 'relu'),\n",
        "                            BatchNormalization(),\n",
        "                            Dense(1, 'sigmoid')\n",
        "])\n",
        "model.summary()"
      ],
      "metadata": {
        "id": "zj04PYg86Iny",
        "colab": {
          "base_uri": "https://localhost:8080/"
        },
        "outputId": "025d93c6-c03a-467a-dfb1-7fe6c444df20"
      },
      "execution_count": null,
      "outputs": [
        {
          "output_type": "stream",
          "name": "stdout",
          "text": [
            "Model: \"sequential\"\n",
            "_________________________________________________________________\n",
            " Layer (type)                Output Shape              Param #   \n",
            "=================================================================\n",
            " conv2d (Conv2D)             (None, 222, 222, 6)       168       \n",
            "                                                                 \n",
            " batch_normalization (BatchN  (None, 222, 222, 6)      24        \n",
            " ormalization)                                                   \n",
            "                                                                 \n",
            " max_pooling2d (MaxPooling2D  (None, 111, 111, 6)      0         \n",
            " )                                                               \n",
            "                                                                 \n",
            " conv2d_1 (Conv2D)           (None, 109, 109, 16)      880       \n",
            "                                                                 \n",
            " batch_normalization_1 (Batc  (None, 109, 109, 16)     64        \n",
            " hNormalization)                                                 \n",
            "                                                                 \n",
            " max_pooling2d_1 (MaxPooling  (None, 54, 54, 16)       0         \n",
            " 2D)                                                             \n",
            "                                                                 \n",
            " flatten (Flatten)           (None, 46656)             0         \n",
            "                                                                 \n",
            " dense (Dense)               (None, 100)               4665700   \n",
            "                                                                 \n",
            " batch_normalization_2 (Batc  (None, 100)              400       \n",
            " hNormalization)                                                 \n",
            "                                                                 \n",
            " dense_1 (Dense)             (None, 10)                1010      \n",
            "                                                                 \n",
            " batch_normalization_3 (Batc  (None, 10)               40        \n",
            " hNormalization)                                                 \n",
            "                                                                 \n",
            " dense_2 (Dense)             (None, 1)                 11        \n",
            "                                                                 \n",
            "=================================================================\n",
            "Total params: 4,668,297\n",
            "Trainable params: 4,668,033\n",
            "Non-trainable params: 264\n",
            "_________________________________________________________________\n"
          ]
        }
      ]
    },
    {
      "cell_type": "code",
      "source": [
        "model.compile(optimizer=Adam(lr=0.0001), loss=BinaryCrossentropy(), metrics = 'accuracy')"
      ],
      "metadata": {
        "id": "u9Ofs9R76I43",
        "colab": {
          "base_uri": "https://localhost:8080/"
        },
        "outputId": "6ce9cd23-96c1-4ee8-c510-ad65c4ac4999"
      },
      "execution_count": null,
      "outputs": [
        {
          "output_type": "stream",
          "name": "stderr",
          "text": [
            "WARNING:absl:`lr` is deprecated in Keras optimizer, please use `learning_rate` or use the legacy optimizer, e.g.,tf.keras.optimizers.legacy.Adam.\n"
          ]
        }
      ]
    },
    {
      "cell_type": "code",
      "source": [
        "history = model.fit(train_dataset, validation_data=val_dataset, epochs=10, verbose=1)"
      ],
      "metadata": {
        "id": "QbnfELseGE4e",
        "colab": {
          "base_uri": "https://localhost:8080/"
        },
        "outputId": "7a155787-923b-49b2-bd56-59097dae7dbc"
      },
      "execution_count": null,
      "outputs": [
        {
          "output_type": "stream",
          "name": "stdout",
          "text": [
            "Epoch 1/10\n",
            "517/517 [==============================] - 34s 40ms/step - loss: 0.3802 - accuracy: 0.8344 - val_loss: 0.3816 - val_accuracy: 0.8396\n",
            "Epoch 2/10\n",
            "517/517 [==============================] - 20s 39ms/step - loss: 0.2333 - accuracy: 0.9140 - val_loss: 0.1996 - val_accuracy: 0.9287\n",
            "Epoch 3/10\n",
            "517/517 [==============================] - 19s 37ms/step - loss: 0.1902 - accuracy: 0.9303 - val_loss: 0.2716 - val_accuracy: 0.9109\n",
            "Epoch 4/10\n",
            "517/517 [==============================] - 20s 38ms/step - loss: 0.1756 - accuracy: 0.9348 - val_loss: 0.2709 - val_accuracy: 0.9062\n",
            "Epoch 5/10\n",
            "517/517 [==============================] - 19s 37ms/step - loss: 0.1350 - accuracy: 0.9508 - val_loss: 0.2239 - val_accuracy: 0.9320\n",
            "Epoch 6/10\n",
            "517/517 [==============================] - 20s 39ms/step - loss: 0.0989 - accuracy: 0.9633 - val_loss: 0.2261 - val_accuracy: 0.9329\n",
            "Epoch 7/10\n",
            "517/517 [==============================] - 20s 38ms/step - loss: 0.0795 - accuracy: 0.9715 - val_loss: 0.2595 - val_accuracy: 0.9298\n",
            "Epoch 8/10\n",
            "517/517 [==============================] - 20s 39ms/step - loss: 0.0807 - accuracy: 0.9703 - val_loss: 0.4015 - val_accuracy: 0.9334\n",
            "Epoch 9/10\n",
            "517/517 [==============================] - 20s 38ms/step - loss: 0.0513 - accuracy: 0.9809 - val_loss: 0.2784 - val_accuracy: 0.9369\n",
            "Epoch 10/10\n",
            "517/517 [==============================] - 19s 37ms/step - loss: 0.0500 - accuracy: 0.9820 - val_loss: 0.2516 - val_accuracy: 0.9343\n"
          ]
        }
      ]
    },
    {
      "cell_type": "code",
      "source": [
        "ind = np.arange(20)\n",
        "\n",
        "\n",
        "fig = go.Figure()\n",
        "fig.add_trace(go.Scatter(x=ind, y=history.history['loss'] ,\n",
        "                    mode='lines',\n",
        "                    name='Loss Treino'))\n",
        "\n",
        "fig.add_trace(go.Scatter(x=ind, y=history.history['val_loss'] ,\n",
        "                    mode='lines+markers',\n",
        "                    name='Loss Validação'))\n",
        "\n",
        "fig.update_layout(title_text='Análise Loss')\n",
        "fig.show()"
      ],
      "metadata": {
        "id": "ghfFsXarXP9a",
        "colab": {
          "base_uri": "https://localhost:8080/",
          "height": 542
        },
        "outputId": "0c98bffd-8c3c-4657-bddf-2b99bc90dd25"
      },
      "execution_count": null,
      "outputs": [
        {
          "output_type": "display_data",
          "data": {
            "text/html": [
              "<html>\n",
              "<head><meta charset=\"utf-8\" /></head>\n",
              "<body>\n",
              "    <div>            <script src=\"https://cdnjs.cloudflare.com/ajax/libs/mathjax/2.7.5/MathJax.js?config=TeX-AMS-MML_SVG\"></script><script type=\"text/javascript\">if (window.MathJax && window.MathJax.Hub && window.MathJax.Hub.Config) {window.MathJax.Hub.Config({SVG: {font: \"STIX-Web\"}});}</script>                <script type=\"text/javascript\">window.PlotlyConfig = {MathJaxConfig: 'local'};</script>\n",
              "        <script src=\"https://cdn.plot.ly/plotly-2.18.2.min.js\"></script>                <div id=\"8a2cb899-483a-47cf-8d34-c6c216174bf9\" class=\"plotly-graph-div\" style=\"height:525px; width:100%;\"></div>            <script type=\"text/javascript\">                                    window.PLOTLYENV=window.PLOTLYENV || {};                                    if (document.getElementById(\"8a2cb899-483a-47cf-8d34-c6c216174bf9\")) {                    Plotly.newPlot(                        \"8a2cb899-483a-47cf-8d34-c6c216174bf9\",                        [{\"mode\":\"lines\",\"name\":\"Loss Treino\",\"x\":[0,1,2,3,4,5,6,7,8,9,10,11,12,13,14,15,16,17,18,19,20,21,22,23,24,25,26,27,28,29,30,31,32,33,34,35,36,37,38,39,40,41,42,43,44,45,46,47,48,49,50,51,52,53,54,55,56,57,58,59,60,61,62,63,64,65,66,67,68,69,70,71,72,73,74,75,76,77,78,79,80,81,82,83,84,85,86,87,88,89,90,91,92,93,94,95,96,97,98,99],\"y\":[0.3801702857017517,0.2333112359046936,0.19020885229110718,0.1755698174238205,0.1349838823080063,0.09886422753334045,0.07947666943073273,0.08074720203876495,0.0513431690633297,0.050036195665597916],\"type\":\"scatter\"},{\"mode\":\"lines+markers\",\"name\":\"Loss Valida\\u00e7\\u00e3o\",\"x\":[0,1,2,3,4,5,6,7,8,9,10,11,12,13,14,15,16,17,18,19,20,21,22,23,24,25,26,27,28,29,30,31,32,33,34,35,36,37,38,39,40,41,42,43,44,45,46,47,48,49,50,51,52,53,54,55,56,57,58,59,60,61,62,63,64,65,66,67,68,69,70,71,72,73,74,75,76,77,78,79,80,81,82,83,84,85,86,87,88,89,90,91,92,93,94,95,96,97,98,99],\"y\":[0.3815615773200989,0.1996239870786667,0.27160775661468506,0.2708791196346283,0.22394847869873047,0.22610008716583252,0.2594674825668335,0.4014529883861542,0.27841272950172424,0.2515571117401123],\"type\":\"scatter\"}],                        {\"template\":{\"data\":{\"histogram2dcontour\":[{\"type\":\"histogram2dcontour\",\"colorbar\":{\"outlinewidth\":0,\"ticks\":\"\"},\"colorscale\":[[0.0,\"#0d0887\"],[0.1111111111111111,\"#46039f\"],[0.2222222222222222,\"#7201a8\"],[0.3333333333333333,\"#9c179e\"],[0.4444444444444444,\"#bd3786\"],[0.5555555555555556,\"#d8576b\"],[0.6666666666666666,\"#ed7953\"],[0.7777777777777778,\"#fb9f3a\"],[0.8888888888888888,\"#fdca26\"],[1.0,\"#f0f921\"]]}],\"choropleth\":[{\"type\":\"choropleth\",\"colorbar\":{\"outlinewidth\":0,\"ticks\":\"\"}}],\"histogram2d\":[{\"type\":\"histogram2d\",\"colorbar\":{\"outlinewidth\":0,\"ticks\":\"\"},\"colorscale\":[[0.0,\"#0d0887\"],[0.1111111111111111,\"#46039f\"],[0.2222222222222222,\"#7201a8\"],[0.3333333333333333,\"#9c179e\"],[0.4444444444444444,\"#bd3786\"],[0.5555555555555556,\"#d8576b\"],[0.6666666666666666,\"#ed7953\"],[0.7777777777777778,\"#fb9f3a\"],[0.8888888888888888,\"#fdca26\"],[1.0,\"#f0f921\"]]}],\"heatmap\":[{\"type\":\"heatmap\",\"colorbar\":{\"outlinewidth\":0,\"ticks\":\"\"},\"colorscale\":[[0.0,\"#0d0887\"],[0.1111111111111111,\"#46039f\"],[0.2222222222222222,\"#7201a8\"],[0.3333333333333333,\"#9c179e\"],[0.4444444444444444,\"#bd3786\"],[0.5555555555555556,\"#d8576b\"],[0.6666666666666666,\"#ed7953\"],[0.7777777777777778,\"#fb9f3a\"],[0.8888888888888888,\"#fdca26\"],[1.0,\"#f0f921\"]]}],\"heatmapgl\":[{\"type\":\"heatmapgl\",\"colorbar\":{\"outlinewidth\":0,\"ticks\":\"\"},\"colorscale\":[[0.0,\"#0d0887\"],[0.1111111111111111,\"#46039f\"],[0.2222222222222222,\"#7201a8\"],[0.3333333333333333,\"#9c179e\"],[0.4444444444444444,\"#bd3786\"],[0.5555555555555556,\"#d8576b\"],[0.6666666666666666,\"#ed7953\"],[0.7777777777777778,\"#fb9f3a\"],[0.8888888888888888,\"#fdca26\"],[1.0,\"#f0f921\"]]}],\"contourcarpet\":[{\"type\":\"contourcarpet\",\"colorbar\":{\"outlinewidth\":0,\"ticks\":\"\"}}],\"contour\":[{\"type\":\"contour\",\"colorbar\":{\"outlinewidth\":0,\"ticks\":\"\"},\"colorscale\":[[0.0,\"#0d0887\"],[0.1111111111111111,\"#46039f\"],[0.2222222222222222,\"#7201a8\"],[0.3333333333333333,\"#9c179e\"],[0.4444444444444444,\"#bd3786\"],[0.5555555555555556,\"#d8576b\"],[0.6666666666666666,\"#ed7953\"],[0.7777777777777778,\"#fb9f3a\"],[0.8888888888888888,\"#fdca26\"],[1.0,\"#f0f921\"]]}],\"surface\":[{\"type\":\"surface\",\"colorbar\":{\"outlinewidth\":0,\"ticks\":\"\"},\"colorscale\":[[0.0,\"#0d0887\"],[0.1111111111111111,\"#46039f\"],[0.2222222222222222,\"#7201a8\"],[0.3333333333333333,\"#9c179e\"],[0.4444444444444444,\"#bd3786\"],[0.5555555555555556,\"#d8576b\"],[0.6666666666666666,\"#ed7953\"],[0.7777777777777778,\"#fb9f3a\"],[0.8888888888888888,\"#fdca26\"],[1.0,\"#f0f921\"]]}],\"mesh3d\":[{\"type\":\"mesh3d\",\"colorbar\":{\"outlinewidth\":0,\"ticks\":\"\"}}],\"scatter\":[{\"fillpattern\":{\"fillmode\":\"overlay\",\"size\":10,\"solidity\":0.2},\"type\":\"scatter\"}],\"parcoords\":[{\"type\":\"parcoords\",\"line\":{\"colorbar\":{\"outlinewidth\":0,\"ticks\":\"\"}}}],\"scatterpolargl\":[{\"type\":\"scatterpolargl\",\"marker\":{\"colorbar\":{\"outlinewidth\":0,\"ticks\":\"\"}}}],\"bar\":[{\"error_x\":{\"color\":\"#2a3f5f\"},\"error_y\":{\"color\":\"#2a3f5f\"},\"marker\":{\"line\":{\"color\":\"#E5ECF6\",\"width\":0.5},\"pattern\":{\"fillmode\":\"overlay\",\"size\":10,\"solidity\":0.2}},\"type\":\"bar\"}],\"scattergeo\":[{\"type\":\"scattergeo\",\"marker\":{\"colorbar\":{\"outlinewidth\":0,\"ticks\":\"\"}}}],\"scatterpolar\":[{\"type\":\"scatterpolar\",\"marker\":{\"colorbar\":{\"outlinewidth\":0,\"ticks\":\"\"}}}],\"histogram\":[{\"marker\":{\"pattern\":{\"fillmode\":\"overlay\",\"size\":10,\"solidity\":0.2}},\"type\":\"histogram\"}],\"scattergl\":[{\"type\":\"scattergl\",\"marker\":{\"colorbar\":{\"outlinewidth\":0,\"ticks\":\"\"}}}],\"scatter3d\":[{\"type\":\"scatter3d\",\"line\":{\"colorbar\":{\"outlinewidth\":0,\"ticks\":\"\"}},\"marker\":{\"colorbar\":{\"outlinewidth\":0,\"ticks\":\"\"}}}],\"scattermapbox\":[{\"type\":\"scattermapbox\",\"marker\":{\"colorbar\":{\"outlinewidth\":0,\"ticks\":\"\"}}}],\"scatterternary\":[{\"type\":\"scatterternary\",\"marker\":{\"colorbar\":{\"outlinewidth\":0,\"ticks\":\"\"}}}],\"scattercarpet\":[{\"type\":\"scattercarpet\",\"marker\":{\"colorbar\":{\"outlinewidth\":0,\"ticks\":\"\"}}}],\"carpet\":[{\"aaxis\":{\"endlinecolor\":\"#2a3f5f\",\"gridcolor\":\"white\",\"linecolor\":\"white\",\"minorgridcolor\":\"white\",\"startlinecolor\":\"#2a3f5f\"},\"baxis\":{\"endlinecolor\":\"#2a3f5f\",\"gridcolor\":\"white\",\"linecolor\":\"white\",\"minorgridcolor\":\"white\",\"startlinecolor\":\"#2a3f5f\"},\"type\":\"carpet\"}],\"table\":[{\"cells\":{\"fill\":{\"color\":\"#EBF0F8\"},\"line\":{\"color\":\"white\"}},\"header\":{\"fill\":{\"color\":\"#C8D4E3\"},\"line\":{\"color\":\"white\"}},\"type\":\"table\"}],\"barpolar\":[{\"marker\":{\"line\":{\"color\":\"#E5ECF6\",\"width\":0.5},\"pattern\":{\"fillmode\":\"overlay\",\"size\":10,\"solidity\":0.2}},\"type\":\"barpolar\"}],\"pie\":[{\"automargin\":true,\"type\":\"pie\"}]},\"layout\":{\"autotypenumbers\":\"strict\",\"colorway\":[\"#636efa\",\"#EF553B\",\"#00cc96\",\"#ab63fa\",\"#FFA15A\",\"#19d3f3\",\"#FF6692\",\"#B6E880\",\"#FF97FF\",\"#FECB52\"],\"font\":{\"color\":\"#2a3f5f\"},\"hovermode\":\"closest\",\"hoverlabel\":{\"align\":\"left\"},\"paper_bgcolor\":\"white\",\"plot_bgcolor\":\"#E5ECF6\",\"polar\":{\"bgcolor\":\"#E5ECF6\",\"angularaxis\":{\"gridcolor\":\"white\",\"linecolor\":\"white\",\"ticks\":\"\"},\"radialaxis\":{\"gridcolor\":\"white\",\"linecolor\":\"white\",\"ticks\":\"\"}},\"ternary\":{\"bgcolor\":\"#E5ECF6\",\"aaxis\":{\"gridcolor\":\"white\",\"linecolor\":\"white\",\"ticks\":\"\"},\"baxis\":{\"gridcolor\":\"white\",\"linecolor\":\"white\",\"ticks\":\"\"},\"caxis\":{\"gridcolor\":\"white\",\"linecolor\":\"white\",\"ticks\":\"\"}},\"coloraxis\":{\"colorbar\":{\"outlinewidth\":0,\"ticks\":\"\"}},\"colorscale\":{\"sequential\":[[0.0,\"#0d0887\"],[0.1111111111111111,\"#46039f\"],[0.2222222222222222,\"#7201a8\"],[0.3333333333333333,\"#9c179e\"],[0.4444444444444444,\"#bd3786\"],[0.5555555555555556,\"#d8576b\"],[0.6666666666666666,\"#ed7953\"],[0.7777777777777778,\"#fb9f3a\"],[0.8888888888888888,\"#fdca26\"],[1.0,\"#f0f921\"]],\"sequentialminus\":[[0.0,\"#0d0887\"],[0.1111111111111111,\"#46039f\"],[0.2222222222222222,\"#7201a8\"],[0.3333333333333333,\"#9c179e\"],[0.4444444444444444,\"#bd3786\"],[0.5555555555555556,\"#d8576b\"],[0.6666666666666666,\"#ed7953\"],[0.7777777777777778,\"#fb9f3a\"],[0.8888888888888888,\"#fdca26\"],[1.0,\"#f0f921\"]],\"diverging\":[[0,\"#8e0152\"],[0.1,\"#c51b7d\"],[0.2,\"#de77ae\"],[0.3,\"#f1b6da\"],[0.4,\"#fde0ef\"],[0.5,\"#f7f7f7\"],[0.6,\"#e6f5d0\"],[0.7,\"#b8e186\"],[0.8,\"#7fbc41\"],[0.9,\"#4d9221\"],[1,\"#276419\"]]},\"xaxis\":{\"gridcolor\":\"white\",\"linecolor\":\"white\",\"ticks\":\"\",\"title\":{\"standoff\":15},\"zerolinecolor\":\"white\",\"automargin\":true,\"zerolinewidth\":2},\"yaxis\":{\"gridcolor\":\"white\",\"linecolor\":\"white\",\"ticks\":\"\",\"title\":{\"standoff\":15},\"zerolinecolor\":\"white\",\"automargin\":true,\"zerolinewidth\":2},\"scene\":{\"xaxis\":{\"backgroundcolor\":\"#E5ECF6\",\"gridcolor\":\"white\",\"linecolor\":\"white\",\"showbackground\":true,\"ticks\":\"\",\"zerolinecolor\":\"white\",\"gridwidth\":2},\"yaxis\":{\"backgroundcolor\":\"#E5ECF6\",\"gridcolor\":\"white\",\"linecolor\":\"white\",\"showbackground\":true,\"ticks\":\"\",\"zerolinecolor\":\"white\",\"gridwidth\":2},\"zaxis\":{\"backgroundcolor\":\"#E5ECF6\",\"gridcolor\":\"white\",\"linecolor\":\"white\",\"showbackground\":true,\"ticks\":\"\",\"zerolinecolor\":\"white\",\"gridwidth\":2}},\"shapedefaults\":{\"line\":{\"color\":\"#2a3f5f\"}},\"annotationdefaults\":{\"arrowcolor\":\"#2a3f5f\",\"arrowhead\":0,\"arrowwidth\":1},\"geo\":{\"bgcolor\":\"white\",\"landcolor\":\"#E5ECF6\",\"subunitcolor\":\"white\",\"showland\":true,\"showlakes\":true,\"lakecolor\":\"white\"},\"title\":{\"x\":0.05},\"mapbox\":{\"style\":\"light\"}}},\"title\":{\"text\":\"An\\u00e1lise Loss\"}},                        {\"responsive\": true}                    ).then(function(){\n",
              "                            \n",
              "var gd = document.getElementById('8a2cb899-483a-47cf-8d34-c6c216174bf9');\n",
              "var x = new MutationObserver(function (mutations, observer) {{\n",
              "        var display = window.getComputedStyle(gd).display;\n",
              "        if (!display || display === 'none') {{\n",
              "            console.log([gd, 'removed!']);\n",
              "            Plotly.purge(gd);\n",
              "            observer.disconnect();\n",
              "        }}\n",
              "}});\n",
              "\n",
              "// Listen for the removal of the full notebook cells\n",
              "var notebookContainer = gd.closest('#notebook-container');\n",
              "if (notebookContainer) {{\n",
              "    x.observe(notebookContainer, {childList: true});\n",
              "}}\n",
              "\n",
              "// Listen for the clearing of the current output cell\n",
              "var outputEl = gd.closest('.output');\n",
              "if (outputEl) {{\n",
              "    x.observe(outputEl, {childList: true});\n",
              "}}\n",
              "\n",
              "                        })                };                            </script>        </div>\n",
              "</body>\n",
              "</html>"
            ]
          },
          "metadata": {}
        }
      ]
    },
    {
      "cell_type": "markdown",
      "source": [
        "![image.png](data:image/png;base64,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)"
      ],
      "metadata": {
        "id": "FzoouOD8j-t_"
      }
    },
    {
      "cell_type": "code",
      "source": [
        "ind = np.arange(20)\n",
        "\n",
        "\n",
        "fig = go.Figure()\n",
        "fig.add_trace(go.Scatter(x=ind, y=history.history['accuracy'] ,\n",
        "                    mode='lines',\n",
        "                    name='Acuracia Treino'))\n",
        "\n",
        "fig.add_trace(go.Scatter(x=ind, y=history.history['val_accuracy'],\n",
        "                    mode='lines+markers',\n",
        "                    name='Acuracia Validação'))\n",
        "\n",
        "fig.update_layout(title_text='Análise Acurácia')\n",
        "fig.show()"
      ],
      "metadata": {
        "id": "HUJnbW10XQFi",
        "colab": {
          "base_uri": "https://localhost:8080/",
          "height": 542
        },
        "outputId": "837e9e48-f393-4dc6-e8fc-46ad6e88e113"
      },
      "execution_count": null,
      "outputs": [
        {
          "output_type": "display_data",
          "data": {
            "text/html": [
              "<html>\n",
              "<head><meta charset=\"utf-8\" /></head>\n",
              "<body>\n",
              "    <div>            <script src=\"https://cdnjs.cloudflare.com/ajax/libs/mathjax/2.7.5/MathJax.js?config=TeX-AMS-MML_SVG\"></script><script type=\"text/javascript\">if (window.MathJax && window.MathJax.Hub && window.MathJax.Hub.Config) {window.MathJax.Hub.Config({SVG: {font: \"STIX-Web\"}});}</script>                <script type=\"text/javascript\">window.PlotlyConfig = {MathJaxConfig: 'local'};</script>\n",
              "        <script src=\"https://cdn.plot.ly/plotly-2.18.2.min.js\"></script>                <div id=\"48066e6f-6f73-48fa-ad31-2c7f6a8d9b09\" class=\"plotly-graph-div\" style=\"height:525px; width:100%;\"></div>            <script type=\"text/javascript\">                                    window.PLOTLYENV=window.PLOTLYENV || {};                                    if (document.getElementById(\"48066e6f-6f73-48fa-ad31-2c7f6a8d9b09\")) {                    Plotly.newPlot(                        \"48066e6f-6f73-48fa-ad31-2c7f6a8d9b09\",                        [{\"mode\":\"lines\",\"name\":\"Rmse Treino\",\"x\":[0,1,2,3,4,5,6,7,8,9,10,11,12,13,14,15,16,17,18,19,20,21,22,23,24,25,26,27,28,29,30,31,32,33,34,35,36,37,38,39,40,41,42,43,44,45,46,47,48,49,50,51,52,53,54,55,56,57,58,59,60,61,62,63,64,65,66,67,68,69,70,71,72,73,74,75,76,77,78,79,80,81,82,83,84,85,86,87,88,89,90,91,92,93,94,95,96,97,98,99],\"y\":[0.8344018459320068,0.9139953851699829,0.9302648901939392,0.9348010420799255,0.9507681131362915,0.9632877707481384,0.9714527726173401,0.9703035950660706,0.9808878898620605,0.9819765090942383],\"type\":\"scatter\"},{\"mode\":\"lines+markers\",\"name\":\"Rmse Valida\\u00e7\\u00e3o\",\"x\":[0,1,2,3,4,5,6,7,8,9,10,11,12,13,14,15,16,17,18,19,20,21,22,23,24,25,26,27,28,29,30,31,32,33,34,35,36,37,38,39,40,41,42,43,44,45,46,47,48,49,50,51,52,53,54,55,56,57,58,59,60,61,62,63,64,65,66,67,68,69,70,71,72,73,74,75,76,77,78,79,80,81,82,83,84,85,86,87,88,89,90,91,92,93,94,95,96,97,98,99],\"y\":[0.8395935297012329,0.9286880493164062,0.9109054803848267,0.9061876535415649,0.9319542646408081,0.9328615665435791,0.9297767877578735,0.9334059357643127,0.9368535876274109,0.934313178062439],\"type\":\"scatter\"}],                        {\"template\":{\"data\":{\"histogram2dcontour\":[{\"type\":\"histogram2dcontour\",\"colorbar\":{\"outlinewidth\":0,\"ticks\":\"\"},\"colorscale\":[[0.0,\"#0d0887\"],[0.1111111111111111,\"#46039f\"],[0.2222222222222222,\"#7201a8\"],[0.3333333333333333,\"#9c179e\"],[0.4444444444444444,\"#bd3786\"],[0.5555555555555556,\"#d8576b\"],[0.6666666666666666,\"#ed7953\"],[0.7777777777777778,\"#fb9f3a\"],[0.8888888888888888,\"#fdca26\"],[1.0,\"#f0f921\"]]}],\"choropleth\":[{\"type\":\"choropleth\",\"colorbar\":{\"outlinewidth\":0,\"ticks\":\"\"}}],\"histogram2d\":[{\"type\":\"histogram2d\",\"colorbar\":{\"outlinewidth\":0,\"ticks\":\"\"},\"colorscale\":[[0.0,\"#0d0887\"],[0.1111111111111111,\"#46039f\"],[0.2222222222222222,\"#7201a8\"],[0.3333333333333333,\"#9c179e\"],[0.4444444444444444,\"#bd3786\"],[0.5555555555555556,\"#d8576b\"],[0.6666666666666666,\"#ed7953\"],[0.7777777777777778,\"#fb9f3a\"],[0.8888888888888888,\"#fdca26\"],[1.0,\"#f0f921\"]]}],\"heatmap\":[{\"type\":\"heatmap\",\"colorbar\":{\"outlinewidth\":0,\"ticks\":\"\"},\"colorscale\":[[0.0,\"#0d0887\"],[0.1111111111111111,\"#46039f\"],[0.2222222222222222,\"#7201a8\"],[0.3333333333333333,\"#9c179e\"],[0.4444444444444444,\"#bd3786\"],[0.5555555555555556,\"#d8576b\"],[0.6666666666666666,\"#ed7953\"],[0.7777777777777778,\"#fb9f3a\"],[0.8888888888888888,\"#fdca26\"],[1.0,\"#f0f921\"]]}],\"heatmapgl\":[{\"type\":\"heatmapgl\",\"colorbar\":{\"outlinewidth\":0,\"ticks\":\"\"},\"colorscale\":[[0.0,\"#0d0887\"],[0.1111111111111111,\"#46039f\"],[0.2222222222222222,\"#7201a8\"],[0.3333333333333333,\"#9c179e\"],[0.4444444444444444,\"#bd3786\"],[0.5555555555555556,\"#d8576b\"],[0.6666666666666666,\"#ed7953\"],[0.7777777777777778,\"#fb9f3a\"],[0.8888888888888888,\"#fdca26\"],[1.0,\"#f0f921\"]]}],\"contourcarpet\":[{\"type\":\"contourcarpet\",\"colorbar\":{\"outlinewidth\":0,\"ticks\":\"\"}}],\"contour\":[{\"type\":\"contour\",\"colorbar\":{\"outlinewidth\":0,\"ticks\":\"\"},\"colorscale\":[[0.0,\"#0d0887\"],[0.1111111111111111,\"#46039f\"],[0.2222222222222222,\"#7201a8\"],[0.3333333333333333,\"#9c179e\"],[0.4444444444444444,\"#bd3786\"],[0.5555555555555556,\"#d8576b\"],[0.6666666666666666,\"#ed7953\"],[0.7777777777777778,\"#fb9f3a\"],[0.8888888888888888,\"#fdca26\"],[1.0,\"#f0f921\"]]}],\"surface\":[{\"type\":\"surface\",\"colorbar\":{\"outlinewidth\":0,\"ticks\":\"\"},\"colorscale\":[[0.0,\"#0d0887\"],[0.1111111111111111,\"#46039f\"],[0.2222222222222222,\"#7201a8\"],[0.3333333333333333,\"#9c179e\"],[0.4444444444444444,\"#bd3786\"],[0.5555555555555556,\"#d8576b\"],[0.6666666666666666,\"#ed7953\"],[0.7777777777777778,\"#fb9f3a\"],[0.8888888888888888,\"#fdca26\"],[1.0,\"#f0f921\"]]}],\"mesh3d\":[{\"type\":\"mesh3d\",\"colorbar\":{\"outlinewidth\":0,\"ticks\":\"\"}}],\"scatter\":[{\"fillpattern\":{\"fillmode\":\"overlay\",\"size\":10,\"solidity\":0.2},\"type\":\"scatter\"}],\"parcoords\":[{\"type\":\"parcoords\",\"line\":{\"colorbar\":{\"outlinewidth\":0,\"ticks\":\"\"}}}],\"scatterpolargl\":[{\"type\":\"scatterpolargl\",\"marker\":{\"colorbar\":{\"outlinewidth\":0,\"ticks\":\"\"}}}],\"bar\":[{\"error_x\":{\"color\":\"#2a3f5f\"},\"error_y\":{\"color\":\"#2a3f5f\"},\"marker\":{\"line\":{\"color\":\"#E5ECF6\",\"width\":0.5},\"pattern\":{\"fillmode\":\"overlay\",\"size\":10,\"solidity\":0.2}},\"type\":\"bar\"}],\"scattergeo\":[{\"type\":\"scattergeo\",\"marker\":{\"colorbar\":{\"outlinewidth\":0,\"ticks\":\"\"}}}],\"scatterpolar\":[{\"type\":\"scatterpolar\",\"marker\":{\"colorbar\":{\"outlinewidth\":0,\"ticks\":\"\"}}}],\"histogram\":[{\"marker\":{\"pattern\":{\"fillmode\":\"overlay\",\"size\":10,\"solidity\":0.2}},\"type\":\"histogram\"}],\"scattergl\":[{\"type\":\"scattergl\",\"marker\":{\"colorbar\":{\"outlinewidth\":0,\"ticks\":\"\"}}}],\"scatter3d\":[{\"type\":\"scatter3d\",\"line\":{\"colorbar\":{\"outlinewidth\":0,\"ticks\":\"\"}},\"marker\":{\"colorbar\":{\"outlinewidth\":0,\"ticks\":\"\"}}}],\"scattermapbox\":[{\"type\":\"scattermapbox\",\"marker\":{\"colorbar\":{\"outlinewidth\":0,\"ticks\":\"\"}}}],\"scatterternary\":[{\"type\":\"scatterternary\",\"marker\":{\"colorbar\":{\"outlinewidth\":0,\"ticks\":\"\"}}}],\"scattercarpet\":[{\"type\":\"scattercarpet\",\"marker\":{\"colorbar\":{\"outlinewidth\":0,\"ticks\":\"\"}}}],\"carpet\":[{\"aaxis\":{\"endlinecolor\":\"#2a3f5f\",\"gridcolor\":\"white\",\"linecolor\":\"white\",\"minorgridcolor\":\"white\",\"startlinecolor\":\"#2a3f5f\"},\"baxis\":{\"endlinecolor\":\"#2a3f5f\",\"gridcolor\":\"white\",\"linecolor\":\"white\",\"minorgridcolor\":\"white\",\"startlinecolor\":\"#2a3f5f\"},\"type\":\"carpet\"}],\"table\":[{\"cells\":{\"fill\":{\"color\":\"#EBF0F8\"},\"line\":{\"color\":\"white\"}},\"header\":{\"fill\":{\"color\":\"#C8D4E3\"},\"line\":{\"color\":\"white\"}},\"type\":\"table\"}],\"barpolar\":[{\"marker\":{\"line\":{\"color\":\"#E5ECF6\",\"width\":0.5},\"pattern\":{\"fillmode\":\"overlay\",\"size\":10,\"solidity\":0.2}},\"type\":\"barpolar\"}],\"pie\":[{\"automargin\":true,\"type\":\"pie\"}]},\"layout\":{\"autotypenumbers\":\"strict\",\"colorway\":[\"#636efa\",\"#EF553B\",\"#00cc96\",\"#ab63fa\",\"#FFA15A\",\"#19d3f3\",\"#FF6692\",\"#B6E880\",\"#FF97FF\",\"#FECB52\"],\"font\":{\"color\":\"#2a3f5f\"},\"hovermode\":\"closest\",\"hoverlabel\":{\"align\":\"left\"},\"paper_bgcolor\":\"white\",\"plot_bgcolor\":\"#E5ECF6\",\"polar\":{\"bgcolor\":\"#E5ECF6\",\"angularaxis\":{\"gridcolor\":\"white\",\"linecolor\":\"white\",\"ticks\":\"\"},\"radialaxis\":{\"gridcolor\":\"white\",\"linecolor\":\"white\",\"ticks\":\"\"}},\"ternary\":{\"bgcolor\":\"#E5ECF6\",\"aaxis\":{\"gridcolor\":\"white\",\"linecolor\":\"white\",\"ticks\":\"\"},\"baxis\":{\"gridcolor\":\"white\",\"linecolor\":\"white\",\"ticks\":\"\"},\"caxis\":{\"gridcolor\":\"white\",\"linecolor\":\"white\",\"ticks\":\"\"}},\"coloraxis\":{\"colorbar\":{\"outlinewidth\":0,\"ticks\":\"\"}},\"colorscale\":{\"sequential\":[[0.0,\"#0d0887\"],[0.1111111111111111,\"#46039f\"],[0.2222222222222222,\"#7201a8\"],[0.3333333333333333,\"#9c179e\"],[0.4444444444444444,\"#bd3786\"],[0.5555555555555556,\"#d8576b\"],[0.6666666666666666,\"#ed7953\"],[0.7777777777777778,\"#fb9f3a\"],[0.8888888888888888,\"#fdca26\"],[1.0,\"#f0f921\"]],\"sequentialminus\":[[0.0,\"#0d0887\"],[0.1111111111111111,\"#46039f\"],[0.2222222222222222,\"#7201a8\"],[0.3333333333333333,\"#9c179e\"],[0.4444444444444444,\"#bd3786\"],[0.5555555555555556,\"#d8576b\"],[0.6666666666666666,\"#ed7953\"],[0.7777777777777778,\"#fb9f3a\"],[0.8888888888888888,\"#fdca26\"],[1.0,\"#f0f921\"]],\"diverging\":[[0,\"#8e0152\"],[0.1,\"#c51b7d\"],[0.2,\"#de77ae\"],[0.3,\"#f1b6da\"],[0.4,\"#fde0ef\"],[0.5,\"#f7f7f7\"],[0.6,\"#e6f5d0\"],[0.7,\"#b8e186\"],[0.8,\"#7fbc41\"],[0.9,\"#4d9221\"],[1,\"#276419\"]]},\"xaxis\":{\"gridcolor\":\"white\",\"linecolor\":\"white\",\"ticks\":\"\",\"title\":{\"standoff\":15},\"zerolinecolor\":\"white\",\"automargin\":true,\"zerolinewidth\":2},\"yaxis\":{\"gridcolor\":\"white\",\"linecolor\":\"white\",\"ticks\":\"\",\"title\":{\"standoff\":15},\"zerolinecolor\":\"white\",\"automargin\":true,\"zerolinewidth\":2},\"scene\":{\"xaxis\":{\"backgroundcolor\":\"#E5ECF6\",\"gridcolor\":\"white\",\"linecolor\":\"white\",\"showbackground\":true,\"ticks\":\"\",\"zerolinecolor\":\"white\",\"gridwidth\":2},\"yaxis\":{\"backgroundcolor\":\"#E5ECF6\",\"gridcolor\":\"white\",\"linecolor\":\"white\",\"showbackground\":true,\"ticks\":\"\",\"zerolinecolor\":\"white\",\"gridwidth\":2},\"zaxis\":{\"backgroundcolor\":\"#E5ECF6\",\"gridcolor\":\"white\",\"linecolor\":\"white\",\"showbackground\":true,\"ticks\":\"\",\"zerolinecolor\":\"white\",\"gridwidth\":2}},\"shapedefaults\":{\"line\":{\"color\":\"#2a3f5f\"}},\"annotationdefaults\":{\"arrowcolor\":\"#2a3f5f\",\"arrowhead\":0,\"arrowwidth\":1},\"geo\":{\"bgcolor\":\"white\",\"landcolor\":\"#E5ECF6\",\"subunitcolor\":\"white\",\"showland\":true,\"showlakes\":true,\"lakecolor\":\"white\"},\"title\":{\"x\":0.05},\"mapbox\":{\"style\":\"light\"}}},\"title\":{\"text\":\"An\\u00e1lise RMSE\"}},                        {\"responsive\": true}                    ).then(function(){\n",
              "                            \n",
              "var gd = document.getElementById('48066e6f-6f73-48fa-ad31-2c7f6a8d9b09');\n",
              "var x = new MutationObserver(function (mutations, observer) {{\n",
              "        var display = window.getComputedStyle(gd).display;\n",
              "        if (!display || display === 'none') {{\n",
              "            console.log([gd, 'removed!']);\n",
              "            Plotly.purge(gd);\n",
              "            observer.disconnect();\n",
              "        }}\n",
              "}});\n",
              "\n",
              "// Listen for the removal of the full notebook cells\n",
              "var notebookContainer = gd.closest('#notebook-container');\n",
              "if (notebookContainer) {{\n",
              "    x.observe(notebookContainer, {childList: true});\n",
              "}}\n",
              "\n",
              "// Listen for the clearing of the current output cell\n",
              "var outputEl = gd.closest('.output');\n",
              "if (outputEl) {{\n",
              "    x.observe(outputEl, {childList: true});\n",
              "}}\n",
              "\n",
              "                        })                };                            </script>        </div>\n",
              "</body>\n",
              "</html>"
            ]
          },
          "metadata": {}
        }
      ]
    },
    {
      "cell_type": "markdown",
      "source": [
        "![image.png](data:image/png;base64,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)"
      ],
      "metadata": {
        "id": "VUinz6COaNvi"
      }
    },
    {
      "cell_type": "markdown",
      "source": [
        "# Avaliação do Modelo"
      ],
      "metadata": {
        "id": "raUpaZPOaS6w"
      }
    },
    {
      "cell_type": "code",
      "source": [
        "test_dataset= test_dataset.batch(1)\n",
        "print(train_dataset), print(test_dataset)"
      ],
      "metadata": {
        "id": "1CxfiviiXQNW",
        "colab": {
          "base_uri": "https://localhost:8080/"
        },
        "outputId": "63008915-8818-4ad7-cf58-4a18f38143ba"
      },
      "execution_count": null,
      "outputs": [
        {
          "output_type": "stream",
          "name": "stdout",
          "text": [
            "<_PrefetchDataset element_spec=(TensorSpec(shape=(None, 224, 224, 3), dtype=tf.float32, name=None), TensorSpec(shape=(None,), dtype=tf.int64, name=None))>\n",
            "<_BatchDataset element_spec=(TensorSpec(shape=(None, 224, 224, 3), dtype=tf.float32, name=None), TensorSpec(shape=(None,), dtype=tf.int64, name=None))>\n"
          ]
        },
        {
          "output_type": "execute_result",
          "data": {
            "text/plain": [
              "(None, None)"
            ]
          },
          "metadata": {},
          "execution_count": 17
        }
      ]
    },
    {
      "cell_type": "code",
      "source": [
        "model.evaluate(test_dataset)[0]"
      ],
      "metadata": {
        "id": "wBfLahAsgxxM",
        "colab": {
          "base_uri": "https://localhost:8080/"
        },
        "outputId": "5ebc3638-93bd-4d05-a81f-cff07aa05a32"
      },
      "execution_count": null,
      "outputs": [
        {
          "output_type": "stream",
          "name": "stdout",
          "text": [
            "5513/5513 [==============================] - 22s 3ms/step - loss: 0.2517 - accuracy: 0.9356\n"
          ]
        },
        {
          "output_type": "execute_result",
          "data": {
            "text/plain": [
              "0.2517120838165283"
            ]
          },
          "metadata": {},
          "execution_count": 18
        }
      ]
    },
    {
      "cell_type": "code",
      "source": [
        "def parasita_ou_nao (x):\n",
        "  if x<0.5:\n",
        "    return str('P')\n",
        "  else:\n",
        "    return str('N')"
      ],
      "metadata": {
        "id": "GN028Li-hIhO"
      },
      "execution_count": null,
      "outputs": []
    },
    {
      "cell_type": "code",
      "source": [
        "parasita_ou_nao(model.predict(test_dataset.take(1)))[0][0]"
      ],
      "metadata": {
        "id": "pMQcyMmLhIeK",
        "colab": {
          "base_uri": "https://localhost:8080/",
          "height": 53
        },
        "outputId": "e3acf958-acbc-43af-9beb-e565c07d7ccc"
      },
      "execution_count": null,
      "outputs": [
        {
          "output_type": "stream",
          "name": "stdout",
          "text": [
            "1/1 [==============================] - 5s 5s/step\n"
          ]
        },
        {
          "output_type": "execute_result",
          "data": {
            "text/plain": [
              "'P'"
            ],
            "application/vnd.google.colaboratory.intrinsic+json": {
              "type": "string"
            }
          },
          "metadata": {},
          "execution_count": 20
        }
      ]
    },
    {
      "cell_type": "code",
      "source": [
        "for i, (image, label) in enumerate(test_dataset.take(9)):\n",
        "\n",
        "  ax = plt.subplot(3,3,i+1)\n",
        "  plt.imshow(image[0]) # especificamos image[0] porque não queremos a dimensão do lote\n",
        "  plt.title(str(parasita_ou_nao(label.numpy()[0])) + \":\" + str(parasita_ou_nao(model.predict(image)[0][0])))\n",
        "  plt.axis(\"off\");"
      ],
      "metadata": {
        "id": "Cm4ao7YWpx2c",
        "colab": {
          "base_uri": "https://localhost:8080/",
          "height": 584
        },
        "outputId": "fd6f63dc-b298-4d15-9b2c-f8de515b3026"
      },
      "execution_count": null,
      "outputs": [
        {
          "output_type": "stream",
          "name": "stdout",
          "text": [
            "1/1 [==============================] - 0s 20ms/step\n",
            "1/1 [==============================] - 0s 20ms/step\n",
            "1/1 [==============================] - 0s 20ms/step\n",
            "1/1 [==============================] - 0s 20ms/step\n",
            "1/1 [==============================] - 0s 21ms/step\n",
            "1/1 [==============================] - 0s 19ms/step\n",
            "1/1 [==============================] - 0s 19ms/step\n",
            "1/1 [==============================] - 0s 20ms/step\n",
            "1/1 [==============================] - 0s 22ms/step\n"
          ]
        },
        {
          "output_type": "display_data",
          "data": {
            "text/plain": [
              "<Figure size 640x480 with 9 Axes>"
            ],
            "image/png": "[encoded data removed]"
          },
          "metadata": {}
        }
      ]
    },
    {
      "cell_type": "markdown",
      "source": [
        "O valor correto é a esquerda e a direta foi o que o modelo previu."
      ],
      "metadata": {
        "id": "eHhM1kFoQ1If"
      }
    }
  ]
}